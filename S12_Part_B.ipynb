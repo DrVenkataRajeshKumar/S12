{
  "nbformat": 4,
  "nbformat_minor": 0,
  "metadata": {
    "colab": {
      "name": "S12_Part_B",
      "provenance": [],
      "include_colab_link": true
    },
    "kernelspec": {
      "name": "python3",
      "display_name": "Python 3"
    }
  },
  "cells": [
    {
      "cell_type": "markdown",
      "metadata": {
        "id": "view-in-github",
        "colab_type": "text"
      },
      "source": [
        "<a href=\"https://colab.research.google.com/github/DrVenkataRajeshKumar/S12/blob/master/S12_Part_B.ipynb\" target=\"_parent\"><img src=\"https://colab.research.google.com/assets/colab-badge.svg\" alt=\"Open In Colab\"/></a>"
      ]
    },
    {
      "cell_type": "code",
      "metadata": {
        "id": "bt1iTj9BX1X3",
        "colab_type": "code",
        "colab": {}
      },
      "source": [
        "from sklearn.cluster import KMeans \n",
        "from sklearn import metrics \n",
        "from scipy.spatial.distance import cdist \n",
        "import numpy as np \n",
        "import matplotlib.pyplot as plt\n",
        "import pandas as pd"
      ],
      "execution_count": 0,
      "outputs": []
    },
    {
      "cell_type": "code",
      "metadata": {
        "id": "dPhjnzvQYOy8",
        "colab_type": "code",
        "outputId": "7289f922-ab1b-45ab-bf8f-bb162da14348",
        "colab": {
          "base_uri": "https://localhost:8080/",
          "height": 105
        }
      },
      "source": [
        "!git clone https://github.com/DrVenkataRajeshKumar/MyData\n",
        "import sys\n",
        "sys.path.append(\"MyData\")"
      ],
      "execution_count": 2,
      "outputs": [
        {
          "output_type": "stream",
          "text": [
            "Cloning into 'MyData'...\n",
            "remote: Enumerating objects: 146, done.\u001b[K\n",
            "Receiving objects:   0% (1/146)   \rReceiving objects:   1% (2/146)   \rReceiving objects:   2% (3/146)   \rReceiving objects:   3% (5/146)   \rReceiving objects:   4% (6/146)   \rReceiving objects:   5% (8/146)   \rReceiving objects:   6% (9/146)   \rReceiving objects:   7% (11/146)   \rReceiving objects:   8% (12/146)   \rReceiving objects:   9% (14/146)   \rReceiving objects:  10% (15/146)   \rReceiving objects:  11% (17/146)   \rReceiving objects:  12% (18/146)   \rReceiving objects:  13% (19/146)   \rReceiving objects:  14% (21/146)   \rReceiving objects:  15% (22/146)   \rReceiving objects:  16% (24/146)   \rReceiving objects:  17% (25/146)   \rReceiving objects:  18% (27/146)   \rReceiving objects:  19% (28/146)   \rReceiving objects:  20% (30/146)   \rReceiving objects:  21% (31/146)   \rReceiving objects:  22% (33/146)   \rReceiving objects:  23% (34/146)   \rReceiving objects:  24% (36/146)   \rReceiving objects:  25% (37/146)   \rReceiving objects:  26% (38/146)   \rReceiving objects:  27% (40/146)   \rReceiving objects:  28% (41/146)   \rReceiving objects:  29% (43/146)   \rReceiving objects:  30% (44/146)   \rReceiving objects:  31% (46/146)   \rReceiving objects:  32% (47/146)   \rReceiving objects:  33% (49/146)   \rReceiving objects:  34% (50/146)   \rReceiving objects:  35% (52/146)   \rReceiving objects:  36% (53/146)   \rReceiving objects:  37% (55/146)   \rReceiving objects:  38% (56/146)   \rReceiving objects:  39% (57/146)   \rReceiving objects:  40% (59/146)   \rReceiving objects:  41% (60/146)   \rReceiving objects:  42% (62/146)   \rReceiving objects:  43% (63/146)   \rReceiving objects:  44% (65/146)   \rReceiving objects:  45% (66/146)   \rReceiving objects:  46% (68/146)   \rReceiving objects:  47% (69/146)   \rReceiving objects:  48% (71/146)   \rReceiving objects:  49% (72/146)   \rReceiving objects:  50% (73/146)   \rReceiving objects:  51% (75/146)   \rReceiving objects:  52% (76/146)   \rReceiving objects:  53% (78/146)   \rReceiving objects:  54% (79/146)   \rReceiving objects:  55% (81/146)   \rReceiving objects:  56% (82/146)   \rReceiving objects:  57% (84/146)   \rReceiving objects:  58% (85/146)   \rReceiving objects:  59% (87/146)   \rReceiving objects:  60% (88/146)   \rReceiving objects:  61% (90/146)   \rReceiving objects:  62% (91/146)   \rReceiving objects:  63% (92/146)   \rReceiving objects:  64% (94/146)   \rReceiving objects:  65% (95/146)   \rReceiving objects:  66% (97/146)   \rReceiving objects:  67% (98/146)   \rReceiving objects:  68% (100/146)   \rReceiving objects:  69% (101/146)   \rReceiving objects:  70% (103/146)   \rReceiving objects:  71% (104/146)   \rReceiving objects:  72% (106/146)   \rReceiving objects:  73% (107/146)   \rReceiving objects:  74% (109/146)   \rReceiving objects:  75% (110/146)   \rReceiving objects:  76% (111/146)   \rReceiving objects:  77% (113/146)   \rReceiving objects:  78% (114/146)   \rReceiving objects:  79% (116/146)   \rReceiving objects:  80% (117/146)   \rReceiving objects:  81% (119/146)   \rReceiving objects:  82% (120/146)   \rReceiving objects:  83% (122/146)   \rReceiving objects:  84% (123/146)   \rremote: Total 146 (delta 0), reused 0 (delta 0), pack-reused 146\u001b[K\n",
            "Receiving objects:  85% (125/146)   \rReceiving objects:  86% (126/146)   \rReceiving objects:  87% (128/146)   \rReceiving objects:  88% (129/146)   \rReceiving objects:  89% (130/146)   \rReceiving objects:  90% (132/146)   \rReceiving objects:  91% (133/146)   \rReceiving objects:  92% (135/146)   \rReceiving objects:  93% (136/146)   \rReceiving objects:  94% (138/146)   \rReceiving objects:  95% (139/146)   \rReceiving objects:  96% (141/146)   \rReceiving objects:  97% (142/146)   \rReceiving objects:  98% (144/146)   \rReceiving objects:  99% (145/146)   \rReceiving objects: 100% (146/146)   \rReceiving objects: 100% (146/146), 2.49 MiB | 23.20 MiB/s, done.\n",
            "Resolving deltas:   0% (0/11)   \rResolving deltas:   9% (1/11)   \rResolving deltas:  18% (2/11)   \rResolving deltas:  45% (5/11)   \rResolving deltas:  63% (7/11)   \rResolving deltas:  90% (10/11)   \rResolving deltas: 100% (11/11)   \rResolving deltas: 100% (11/11), done.\n"
          ],
          "name": "stdout"
        }
      ]
    },
    {
      "cell_type": "code",
      "metadata": {
        "id": "MJCnEfrzYOqw",
        "colab_type": "code",
        "colab": {}
      },
      "source": [
        "import json\n",
        "path = '/content/MyData/'\n",
        "with open(path + \"Dogs_Json_Coco.json\") as f:\n",
        "  annotations_data = json.load(f)"
      ],
      "execution_count": 0,
      "outputs": []
    },
    {
      "cell_type": "markdown",
      "metadata": {
        "id": "QCq03nRhuQrZ",
        "colab_type": "text"
      },
      "source": [
        "# Extracting keys & Image Attributes from the JSON File"
      ]
    },
    {
      "cell_type": "code",
      "metadata": {
        "id": "93SonxAEYZQV",
        "colab_type": "code",
        "colab": {
          "base_uri": "https://localhost:8080/",
          "height": 34
        },
        "outputId": "8f8a4b1c-a5a6-46fd-e85f-8e9a1e48a67a"
      },
      "source": [
        "print(annotations_data.keys())"
      ],
      "execution_count": 4,
      "outputs": [
        {
          "output_type": "stream",
          "text": [
            "dict_keys(['info', 'images', 'annotations', 'licenses', 'categories'])\n"
          ],
          "name": "stdout"
        }
      ]
    },
    {
      "cell_type": "code",
      "metadata": {
        "id": "fVBeTFe2YarG",
        "colab_type": "code",
        "colab": {
          "base_uri": "https://localhost:8080/",
          "height": 197
        },
        "outputId": "daf9381b-04af-4115-fe36-7d96860235b5"
      },
      "source": [
        "images = pd.DataFrame(annotations_data['images'], columns = annotations_data['images'][0].keys())\n",
        "images.head()"
      ],
      "execution_count": 5,
      "outputs": [
        {
          "output_type": "execute_result",
          "data": {
            "text/html": [
              "<div>\n",
              "<style scoped>\n",
              "    .dataframe tbody tr th:only-of-type {\n",
              "        vertical-align: middle;\n",
              "    }\n",
              "\n",
              "    .dataframe tbody tr th {\n",
              "        vertical-align: top;\n",
              "    }\n",
              "\n",
              "    .dataframe thead th {\n",
              "        text-align: right;\n",
              "    }\n",
              "</style>\n",
              "<table border=\"1\" class=\"dataframe\">\n",
              "  <thead>\n",
              "    <tr style=\"text-align: right;\">\n",
              "      <th></th>\n",
              "      <th>id</th>\n",
              "      <th>width</th>\n",
              "      <th>height</th>\n",
              "      <th>file_name</th>\n",
              "      <th>license</th>\n",
              "      <th>date_captured</th>\n",
              "    </tr>\n",
              "  </thead>\n",
              "  <tbody>\n",
              "    <tr>\n",
              "      <th>0</th>\n",
              "      <td>0</td>\n",
              "      <td>400</td>\n",
              "      <td>500</td>\n",
              "      <td>D1.jpg</td>\n",
              "      <td>1</td>\n",
              "      <td></td>\n",
              "    </tr>\n",
              "    <tr>\n",
              "      <th>1</th>\n",
              "      <td>1</td>\n",
              "      <td>500</td>\n",
              "      <td>333</td>\n",
              "      <td>D2.jpg</td>\n",
              "      <td>1</td>\n",
              "      <td></td>\n",
              "    </tr>\n",
              "    <tr>\n",
              "      <th>2</th>\n",
              "      <td>2</td>\n",
              "      <td>500</td>\n",
              "      <td>333</td>\n",
              "      <td>D3.jpg</td>\n",
              "      <td>1</td>\n",
              "      <td></td>\n",
              "    </tr>\n",
              "    <tr>\n",
              "      <th>3</th>\n",
              "      <td>3</td>\n",
              "      <td>500</td>\n",
              "      <td>375</td>\n",
              "      <td>D4.jpg</td>\n",
              "      <td>1</td>\n",
              "      <td></td>\n",
              "    </tr>\n",
              "    <tr>\n",
              "      <th>4</th>\n",
              "      <td>4</td>\n",
              "      <td>500</td>\n",
              "      <td>375</td>\n",
              "      <td>D5.jpg</td>\n",
              "      <td>1</td>\n",
              "      <td></td>\n",
              "    </tr>\n",
              "  </tbody>\n",
              "</table>\n",
              "</div>"
            ],
            "text/plain": [
              "   id  width  height file_name  license date_captured\n",
              "0   0    400     500    D1.jpg        1              \n",
              "1   1    500     333    D2.jpg        1              \n",
              "2   2    500     333    D3.jpg        1              \n",
              "3   3    500     375    D4.jpg        1              \n",
              "4   4    500     375    D5.jpg        1              "
            ]
          },
          "metadata": {
            "tags": []
          },
          "execution_count": 5
        }
      ]
    },
    {
      "cell_type": "code",
      "metadata": {
        "id": "dNDdQb3hYygN",
        "colab_type": "code",
        "colab": {
          "base_uri": "https://localhost:8080/",
          "height": 197
        },
        "outputId": "d9eff137-9bfd-478a-c2ac-0939e91ce6c8"
      },
      "source": [
        "images = images.drop([\"id\", \"license\",\"date_captured\"],axis = 1)\n",
        "images.head()"
      ],
      "execution_count": 6,
      "outputs": [
        {
          "output_type": "execute_result",
          "data": {
            "text/html": [
              "<div>\n",
              "<style scoped>\n",
              "    .dataframe tbody tr th:only-of-type {\n",
              "        vertical-align: middle;\n",
              "    }\n",
              "\n",
              "    .dataframe tbody tr th {\n",
              "        vertical-align: top;\n",
              "    }\n",
              "\n",
              "    .dataframe thead th {\n",
              "        text-align: right;\n",
              "    }\n",
              "</style>\n",
              "<table border=\"1\" class=\"dataframe\">\n",
              "  <thead>\n",
              "    <tr style=\"text-align: right;\">\n",
              "      <th></th>\n",
              "      <th>width</th>\n",
              "      <th>height</th>\n",
              "      <th>file_name</th>\n",
              "    </tr>\n",
              "  </thead>\n",
              "  <tbody>\n",
              "    <tr>\n",
              "      <th>0</th>\n",
              "      <td>400</td>\n",
              "      <td>500</td>\n",
              "      <td>D1.jpg</td>\n",
              "    </tr>\n",
              "    <tr>\n",
              "      <th>1</th>\n",
              "      <td>500</td>\n",
              "      <td>333</td>\n",
              "      <td>D2.jpg</td>\n",
              "    </tr>\n",
              "    <tr>\n",
              "      <th>2</th>\n",
              "      <td>500</td>\n",
              "      <td>333</td>\n",
              "      <td>D3.jpg</td>\n",
              "    </tr>\n",
              "    <tr>\n",
              "      <th>3</th>\n",
              "      <td>500</td>\n",
              "      <td>375</td>\n",
              "      <td>D4.jpg</td>\n",
              "    </tr>\n",
              "    <tr>\n",
              "      <th>4</th>\n",
              "      <td>500</td>\n",
              "      <td>375</td>\n",
              "      <td>D5.jpg</td>\n",
              "    </tr>\n",
              "  </tbody>\n",
              "</table>\n",
              "</div>"
            ],
            "text/plain": [
              "   width  height file_name\n",
              "0    400     500    D1.jpg\n",
              "1    500     333    D2.jpg\n",
              "2    500     333    D3.jpg\n",
              "3    500     375    D4.jpg\n",
              "4    500     375    D5.jpg"
            ]
          },
          "metadata": {
            "tags": []
          },
          "execution_count": 6
        }
      ]
    },
    {
      "cell_type": "markdown",
      "metadata": {
        "id": "BWxSDoRUuwnb",
        "colab_type": "text"
      },
      "source": [
        "# Extracting Annotated Image Attributes from the JSON File\n",
        "\n"
      ]
    },
    {
      "cell_type": "code",
      "metadata": {
        "id": "W5nB-XexY5cV",
        "colab_type": "code",
        "colab": {
          "base_uri": "https://localhost:8080/",
          "height": 197
        },
        "outputId": "17fdd5c5-5ec6-46fb-c84f-0ba44e144f88"
      },
      "source": [
        "annotations = pd.DataFrame(annotations_data['annotations'], columns = annotations_data['annotations'][0].keys())\n",
        "annotations.head()"
      ],
      "execution_count": 7,
      "outputs": [
        {
          "output_type": "execute_result",
          "data": {
            "text/html": [
              "<div>\n",
              "<style scoped>\n",
              "    .dataframe tbody tr th:only-of-type {\n",
              "        vertical-align: middle;\n",
              "    }\n",
              "\n",
              "    .dataframe tbody tr th {\n",
              "        vertical-align: top;\n",
              "    }\n",
              "\n",
              "    .dataframe thead th {\n",
              "        text-align: right;\n",
              "    }\n",
              "</style>\n",
              "<table border=\"1\" class=\"dataframe\">\n",
              "  <thead>\n",
              "    <tr style=\"text-align: right;\">\n",
              "      <th></th>\n",
              "      <th>id</th>\n",
              "      <th>image_id</th>\n",
              "      <th>segmentation</th>\n",
              "      <th>area</th>\n",
              "      <th>bbox</th>\n",
              "      <th>iscrowd</th>\n",
              "    </tr>\n",
              "  </thead>\n",
              "  <tbody>\n",
              "    <tr>\n",
              "      <th>0</th>\n",
              "      <td>0</td>\n",
              "      <td>0</td>\n",
              "      <td>[114, 44, 378, 44, 378, 488, 114, 488]</td>\n",
              "      <td>117216</td>\n",
              "      <td>[114, 44, 264, 444]</td>\n",
              "      <td>0</td>\n",
              "    </tr>\n",
              "    <tr>\n",
              "      <th>1</th>\n",
              "      <td>1</td>\n",
              "      <td>1</td>\n",
              "      <td>[178, 51, 346, 51, 346, 197, 178, 197]</td>\n",
              "      <td>24528</td>\n",
              "      <td>[178, 51, 168, 146]</td>\n",
              "      <td>0</td>\n",
              "    </tr>\n",
              "    <tr>\n",
              "      <th>2</th>\n",
              "      <td>2</td>\n",
              "      <td>2</td>\n",
              "      <td>[149, 22, 422, 22, 422, 318, 149, 318]</td>\n",
              "      <td>80808</td>\n",
              "      <td>[149, 22, 273, 296]</td>\n",
              "      <td>0</td>\n",
              "    </tr>\n",
              "    <tr>\n",
              "      <th>3</th>\n",
              "      <td>3</td>\n",
              "      <td>3</td>\n",
              "      <td>[177, 106, 394, 106, 394, 339, 177, 339]</td>\n",
              "      <td>50561</td>\n",
              "      <td>[177, 106, 217, 233]</td>\n",
              "      <td>0</td>\n",
              "    </tr>\n",
              "    <tr>\n",
              "      <th>4</th>\n",
              "      <td>4</td>\n",
              "      <td>4</td>\n",
              "      <td>[8, 84, 449, 84, 449, 347, 8, 347]</td>\n",
              "      <td>115983</td>\n",
              "      <td>[8, 84, 441, 263]</td>\n",
              "      <td>0</td>\n",
              "    </tr>\n",
              "  </tbody>\n",
              "</table>\n",
              "</div>"
            ],
            "text/plain": [
              "   id image_id  ...                  bbox  iscrowd\n",
              "0   0        0  ...   [114, 44, 264, 444]        0\n",
              "1   1        1  ...   [178, 51, 168, 146]        0\n",
              "2   2        2  ...   [149, 22, 273, 296]        0\n",
              "3   3        3  ...  [177, 106, 217, 233]        0\n",
              "4   4        4  ...     [8, 84, 441, 263]        0\n",
              "\n",
              "[5 rows x 6 columns]"
            ]
          },
          "metadata": {
            "tags": []
          },
          "execution_count": 7
        }
      ]
    },
    {
      "cell_type": "code",
      "metadata": {
        "id": "2LvApwklY8fF",
        "colab_type": "code",
        "colab": {
          "base_uri": "https://localhost:8080/",
          "height": 197
        },
        "outputId": "da869d4d-2ad4-4abf-f1f7-ccd2f7c1893b"
      },
      "source": [
        "bbwidth = []\n",
        "bbheight = []\n",
        "bbox = list(annotations['bbox'])\n",
        "for i in bbox:\n",
        "    bbwidth.append(i[2])\n",
        "    bbheight.append(i[3])\n",
        "annotations['bbwidth'] = bbwidth\n",
        "annotations['bbheight'] = bbheight\n",
        "annotations = annotations.drop([\"bbox\", \"id\",\"segmentation\",\"area\",\"iscrowd\"],axis =1)\n",
        "annotations.head()"
      ],
      "execution_count": 8,
      "outputs": [
        {
          "output_type": "execute_result",
          "data": {
            "text/html": [
              "<div>\n",
              "<style scoped>\n",
              "    .dataframe tbody tr th:only-of-type {\n",
              "        vertical-align: middle;\n",
              "    }\n",
              "\n",
              "    .dataframe tbody tr th {\n",
              "        vertical-align: top;\n",
              "    }\n",
              "\n",
              "    .dataframe thead th {\n",
              "        text-align: right;\n",
              "    }\n",
              "</style>\n",
              "<table border=\"1\" class=\"dataframe\">\n",
              "  <thead>\n",
              "    <tr style=\"text-align: right;\">\n",
              "      <th></th>\n",
              "      <th>image_id</th>\n",
              "      <th>bbwidth</th>\n",
              "      <th>bbheight</th>\n",
              "    </tr>\n",
              "  </thead>\n",
              "  <tbody>\n",
              "    <tr>\n",
              "      <th>0</th>\n",
              "      <td>0</td>\n",
              "      <td>264</td>\n",
              "      <td>444</td>\n",
              "    </tr>\n",
              "    <tr>\n",
              "      <th>1</th>\n",
              "      <td>1</td>\n",
              "      <td>168</td>\n",
              "      <td>146</td>\n",
              "    </tr>\n",
              "    <tr>\n",
              "      <th>2</th>\n",
              "      <td>2</td>\n",
              "      <td>273</td>\n",
              "      <td>296</td>\n",
              "    </tr>\n",
              "    <tr>\n",
              "      <th>3</th>\n",
              "      <td>3</td>\n",
              "      <td>217</td>\n",
              "      <td>233</td>\n",
              "    </tr>\n",
              "    <tr>\n",
              "      <th>4</th>\n",
              "      <td>4</td>\n",
              "      <td>441</td>\n",
              "      <td>263</td>\n",
              "    </tr>\n",
              "  </tbody>\n",
              "</table>\n",
              "</div>"
            ],
            "text/plain": [
              "  image_id  bbwidth  bbheight\n",
              "0        0      264       444\n",
              "1        1      168       146\n",
              "2        2      273       296\n",
              "3        3      217       233\n",
              "4        4      441       263"
            ]
          },
          "metadata": {
            "tags": []
          },
          "execution_count": 8
        }
      ]
    },
    {
      "cell_type": "markdown",
      "metadata": {
        "id": "wqZ-g7olu9SA",
        "colab_type": "text"
      },
      "source": [
        "# Combining the Image and Annotated Image Attributes"
      ]
    },
    {
      "cell_type": "code",
      "metadata": {
        "id": "BOjbpzE7ZAol",
        "colab_type": "code",
        "colab": {
          "base_uri": "https://localhost:8080/",
          "height": 197
        },
        "outputId": "3747b4bc-df61-4e7c-8889-0336b55062da"
      },
      "source": [
        "image_info = pd.concat([images,annotations],axis = 1)\n",
        "\n",
        "columnsTitles = ['image_id', 'file_name', 'bbwidth','bbheight','width','height']\n",
        "image_info = image_info.reindex(columns=columnsTitles)\n",
        "\n",
        "image_info.head()"
      ],
      "execution_count": 9,
      "outputs": [
        {
          "output_type": "execute_result",
          "data": {
            "text/html": [
              "<div>\n",
              "<style scoped>\n",
              "    .dataframe tbody tr th:only-of-type {\n",
              "        vertical-align: middle;\n",
              "    }\n",
              "\n",
              "    .dataframe tbody tr th {\n",
              "        vertical-align: top;\n",
              "    }\n",
              "\n",
              "    .dataframe thead th {\n",
              "        text-align: right;\n",
              "    }\n",
              "</style>\n",
              "<table border=\"1\" class=\"dataframe\">\n",
              "  <thead>\n",
              "    <tr style=\"text-align: right;\">\n",
              "      <th></th>\n",
              "      <th>image_id</th>\n",
              "      <th>file_name</th>\n",
              "      <th>bbwidth</th>\n",
              "      <th>bbheight</th>\n",
              "      <th>width</th>\n",
              "      <th>height</th>\n",
              "    </tr>\n",
              "  </thead>\n",
              "  <tbody>\n",
              "    <tr>\n",
              "      <th>0</th>\n",
              "      <td>0</td>\n",
              "      <td>D1.jpg</td>\n",
              "      <td>264</td>\n",
              "      <td>444</td>\n",
              "      <td>400.0</td>\n",
              "      <td>500.0</td>\n",
              "    </tr>\n",
              "    <tr>\n",
              "      <th>1</th>\n",
              "      <td>1</td>\n",
              "      <td>D2.jpg</td>\n",
              "      <td>168</td>\n",
              "      <td>146</td>\n",
              "      <td>500.0</td>\n",
              "      <td>333.0</td>\n",
              "    </tr>\n",
              "    <tr>\n",
              "      <th>2</th>\n",
              "      <td>2</td>\n",
              "      <td>D3.jpg</td>\n",
              "      <td>273</td>\n",
              "      <td>296</td>\n",
              "      <td>500.0</td>\n",
              "      <td>333.0</td>\n",
              "    </tr>\n",
              "    <tr>\n",
              "      <th>3</th>\n",
              "      <td>3</td>\n",
              "      <td>D4.jpg</td>\n",
              "      <td>217</td>\n",
              "      <td>233</td>\n",
              "      <td>500.0</td>\n",
              "      <td>375.0</td>\n",
              "    </tr>\n",
              "    <tr>\n",
              "      <th>4</th>\n",
              "      <td>4</td>\n",
              "      <td>D5.jpg</td>\n",
              "      <td>441</td>\n",
              "      <td>263</td>\n",
              "      <td>500.0</td>\n",
              "      <td>375.0</td>\n",
              "    </tr>\n",
              "  </tbody>\n",
              "</table>\n",
              "</div>"
            ],
            "text/plain": [
              "  image_id file_name  bbwidth  bbheight  width  height\n",
              "0        0    D1.jpg      264       444  400.0   500.0\n",
              "1        1    D2.jpg      168       146  500.0   333.0\n",
              "2        2    D3.jpg      273       296  500.0   333.0\n",
              "3        3    D4.jpg      217       233  500.0   375.0\n",
              "4        4    D5.jpg      441       263  500.0   375.0"
            ]
          },
          "metadata": {
            "tags": []
          },
          "execution_count": 9
        }
      ]
    },
    {
      "cell_type": "markdown",
      "metadata": {
        "id": "RvayqZy9vrC-",
        "colab_type": "text"
      },
      "source": [
        "# Normalising the Image (Height and Width to 1)"
      ]
    },
    {
      "cell_type": "code",
      "metadata": {
        "id": "8RJaZ716ZGLs",
        "colab_type": "code",
        "colab": {
          "base_uri": "https://localhost:8080/",
          "height": 197
        },
        "outputId": "499508a9-f608-434f-f656-bbb47e7e3933"
      },
      "source": [
        "image_info['bbwidth'] = image_info['bbwidth'].div(image_info['width'])\n",
        "image_info['bbheight'] = image_info['bbheight'].div(image_info['height'])\n",
        "image_info['height'] = image_info['height'].div(image_info['height'])\n",
        "image_info['width'] = image_info['width'].div(image_info['width'])\n",
        "\n",
        "image_info.head()"
      ],
      "execution_count": 10,
      "outputs": [
        {
          "output_type": "execute_result",
          "data": {
            "text/html": [
              "<div>\n",
              "<style scoped>\n",
              "    .dataframe tbody tr th:only-of-type {\n",
              "        vertical-align: middle;\n",
              "    }\n",
              "\n",
              "    .dataframe tbody tr th {\n",
              "        vertical-align: top;\n",
              "    }\n",
              "\n",
              "    .dataframe thead th {\n",
              "        text-align: right;\n",
              "    }\n",
              "</style>\n",
              "<table border=\"1\" class=\"dataframe\">\n",
              "  <thead>\n",
              "    <tr style=\"text-align: right;\">\n",
              "      <th></th>\n",
              "      <th>image_id</th>\n",
              "      <th>file_name</th>\n",
              "      <th>bbwidth</th>\n",
              "      <th>bbheight</th>\n",
              "      <th>width</th>\n",
              "      <th>height</th>\n",
              "    </tr>\n",
              "  </thead>\n",
              "  <tbody>\n",
              "    <tr>\n",
              "      <th>0</th>\n",
              "      <td>0</td>\n",
              "      <td>D1.jpg</td>\n",
              "      <td>0.660</td>\n",
              "      <td>0.888000</td>\n",
              "      <td>1.0</td>\n",
              "      <td>1.0</td>\n",
              "    </tr>\n",
              "    <tr>\n",
              "      <th>1</th>\n",
              "      <td>1</td>\n",
              "      <td>D2.jpg</td>\n",
              "      <td>0.336</td>\n",
              "      <td>0.438438</td>\n",
              "      <td>1.0</td>\n",
              "      <td>1.0</td>\n",
              "    </tr>\n",
              "    <tr>\n",
              "      <th>2</th>\n",
              "      <td>2</td>\n",
              "      <td>D3.jpg</td>\n",
              "      <td>0.546</td>\n",
              "      <td>0.888889</td>\n",
              "      <td>1.0</td>\n",
              "      <td>1.0</td>\n",
              "    </tr>\n",
              "    <tr>\n",
              "      <th>3</th>\n",
              "      <td>3</td>\n",
              "      <td>D4.jpg</td>\n",
              "      <td>0.434</td>\n",
              "      <td>0.621333</td>\n",
              "      <td>1.0</td>\n",
              "      <td>1.0</td>\n",
              "    </tr>\n",
              "    <tr>\n",
              "      <th>4</th>\n",
              "      <td>4</td>\n",
              "      <td>D5.jpg</td>\n",
              "      <td>0.882</td>\n",
              "      <td>0.701333</td>\n",
              "      <td>1.0</td>\n",
              "      <td>1.0</td>\n",
              "    </tr>\n",
              "  </tbody>\n",
              "</table>\n",
              "</div>"
            ],
            "text/plain": [
              "  image_id file_name  bbwidth  bbheight  width  height\n",
              "0        0    D1.jpg    0.660  0.888000    1.0     1.0\n",
              "1        1    D2.jpg    0.336  0.438438    1.0     1.0\n",
              "2        2    D3.jpg    0.546  0.888889    1.0     1.0\n",
              "3        3    D4.jpg    0.434  0.621333    1.0     1.0\n",
              "4        4    D5.jpg    0.882  0.701333    1.0     1.0"
            ]
          },
          "metadata": {
            "tags": []
          },
          "execution_count": 10
        }
      ]
    },
    {
      "cell_type": "code",
      "metadata": {
        "id": "FyhJlS3wZJak",
        "colab_type": "code",
        "colab": {
          "base_uri": "https://localhost:8080/",
          "height": 1000
        },
        "outputId": "5c9d0c0e-7959-4c8b-a991-8df1e3ae313c"
      },
      "source": [
        "image_info_final = image_info.drop([\"width\",\"height\",\"file_name\"],axis = 1)\n",
        "image_info_final = image_info_final.apply (pd.to_numeric, errors='coerce')\n",
        "image_info_final = image_info_final.dropna()\n",
        "image_info_final"
      ],
      "execution_count": 11,
      "outputs": [
        {
          "output_type": "execute_result",
          "data": {
            "text/html": [
              "<div>\n",
              "<style scoped>\n",
              "    .dataframe tbody tr th:only-of-type {\n",
              "        vertical-align: middle;\n",
              "    }\n",
              "\n",
              "    .dataframe tbody tr th {\n",
              "        vertical-align: top;\n",
              "    }\n",
              "\n",
              "    .dataframe thead th {\n",
              "        text-align: right;\n",
              "    }\n",
              "</style>\n",
              "<table border=\"1\" class=\"dataframe\">\n",
              "  <thead>\n",
              "    <tr style=\"text-align: right;\">\n",
              "      <th></th>\n",
              "      <th>image_id</th>\n",
              "      <th>bbwidth</th>\n",
              "      <th>bbheight</th>\n",
              "    </tr>\n",
              "  </thead>\n",
              "  <tbody>\n",
              "    <tr>\n",
              "      <th>0</th>\n",
              "      <td>0</td>\n",
              "      <td>0.660000</td>\n",
              "      <td>0.888000</td>\n",
              "    </tr>\n",
              "    <tr>\n",
              "      <th>1</th>\n",
              "      <td>1</td>\n",
              "      <td>0.336000</td>\n",
              "      <td>0.438438</td>\n",
              "    </tr>\n",
              "    <tr>\n",
              "      <th>2</th>\n",
              "      <td>2</td>\n",
              "      <td>0.546000</td>\n",
              "      <td>0.888889</td>\n",
              "    </tr>\n",
              "    <tr>\n",
              "      <th>3</th>\n",
              "      <td>3</td>\n",
              "      <td>0.434000</td>\n",
              "      <td>0.621333</td>\n",
              "    </tr>\n",
              "    <tr>\n",
              "      <th>4</th>\n",
              "      <td>4</td>\n",
              "      <td>0.882000</td>\n",
              "      <td>0.701333</td>\n",
              "    </tr>\n",
              "    <tr>\n",
              "      <th>5</th>\n",
              "      <td>5</td>\n",
              "      <td>0.937656</td>\n",
              "      <td>0.920110</td>\n",
              "    </tr>\n",
              "    <tr>\n",
              "      <th>6</th>\n",
              "      <td>6</td>\n",
              "      <td>0.653846</td>\n",
              "      <td>0.900000</td>\n",
              "    </tr>\n",
              "    <tr>\n",
              "      <th>7</th>\n",
              "      <td>7</td>\n",
              "      <td>0.292000</td>\n",
              "      <td>0.370667</td>\n",
              "    </tr>\n",
              "    <tr>\n",
              "      <th>8</th>\n",
              "      <td>7</td>\n",
              "      <td>0.483333</td>\n",
              "      <td>0.817664</td>\n",
              "    </tr>\n",
              "    <tr>\n",
              "      <th>9</th>\n",
              "      <td>8</td>\n",
              "      <td>1.093525</td>\n",
              "      <td>1.270073</td>\n",
              "    </tr>\n",
              "    <tr>\n",
              "      <th>10</th>\n",
              "      <td>9</td>\n",
              "      <td>0.520000</td>\n",
              "      <td>0.768546</td>\n",
              "    </tr>\n",
              "    <tr>\n",
              "      <th>11</th>\n",
              "      <td>10</td>\n",
              "      <td>0.346000</td>\n",
              "      <td>0.418667</td>\n",
              "    </tr>\n",
              "    <tr>\n",
              "      <th>12</th>\n",
              "      <td>11</td>\n",
              "      <td>0.239394</td>\n",
              "      <td>0.569721</td>\n",
              "    </tr>\n",
              "    <tr>\n",
              "      <th>13</th>\n",
              "      <td>12</td>\n",
              "      <td>0.470000</td>\n",
              "      <td>0.446000</td>\n",
              "    </tr>\n",
              "    <tr>\n",
              "      <th>14</th>\n",
              "      <td>13</td>\n",
              "      <td>0.308000</td>\n",
              "      <td>0.298333</td>\n",
              "    </tr>\n",
              "    <tr>\n",
              "      <th>15</th>\n",
              "      <td>14</td>\n",
              "      <td>1.286957</td>\n",
              "      <td>1.644444</td>\n",
              "    </tr>\n",
              "    <tr>\n",
              "      <th>16</th>\n",
              "      <td>15</td>\n",
              "      <td>0.755556</td>\n",
              "      <td>1.223443</td>\n",
              "    </tr>\n",
              "    <tr>\n",
              "      <th>17</th>\n",
              "      <td>16</td>\n",
              "      <td>0.410667</td>\n",
              "      <td>0.348000</td>\n",
              "    </tr>\n",
              "    <tr>\n",
              "      <th>18</th>\n",
              "      <td>17</td>\n",
              "      <td>0.508000</td>\n",
              "      <td>0.992000</td>\n",
              "    </tr>\n",
              "    <tr>\n",
              "      <th>19</th>\n",
              "      <td>18</td>\n",
              "      <td>0.616000</td>\n",
              "      <td>0.538667</td>\n",
              "    </tr>\n",
              "    <tr>\n",
              "      <th>20</th>\n",
              "      <td>19</td>\n",
              "      <td>0.706000</td>\n",
              "      <td>0.938667</td>\n",
              "    </tr>\n",
              "    <tr>\n",
              "      <th>21</th>\n",
              "      <td>20</td>\n",
              "      <td>0.854000</td>\n",
              "      <td>0.602000</td>\n",
              "    </tr>\n",
              "    <tr>\n",
              "      <th>22</th>\n",
              "      <td>21</td>\n",
              "      <td>0.499165</td>\n",
              "      <td>1.018692</td>\n",
              "    </tr>\n",
              "    <tr>\n",
              "      <th>23</th>\n",
              "      <td>22</td>\n",
              "      <td>0.932000</td>\n",
              "      <td>1.132132</td>\n",
              "    </tr>\n",
              "    <tr>\n",
              "      <th>24</th>\n",
              "      <td>23</td>\n",
              "      <td>1.255556</td>\n",
              "      <td>1.096667</td>\n",
              "    </tr>\n",
              "    <tr>\n",
              "      <th>25</th>\n",
              "      <td>24</td>\n",
              "      <td>0.573333</td>\n",
              "      <td>0.562000</td>\n",
              "    </tr>\n",
              "    <tr>\n",
              "      <th>26</th>\n",
              "      <td>25</td>\n",
              "      <td>0.742000</td>\n",
              "      <td>1.288000</td>\n",
              "    </tr>\n",
              "    <tr>\n",
              "      <th>27</th>\n",
              "      <td>26</td>\n",
              "      <td>0.918000</td>\n",
              "      <td>0.989333</td>\n",
              "    </tr>\n",
              "    <tr>\n",
              "      <th>28</th>\n",
              "      <td>27</td>\n",
              "      <td>0.456000</td>\n",
              "      <td>0.834337</td>\n",
              "    </tr>\n",
              "    <tr>\n",
              "      <th>29</th>\n",
              "      <td>28</td>\n",
              "      <td>0.685000</td>\n",
              "      <td>0.504178</td>\n",
              "    </tr>\n",
              "    <tr>\n",
              "      <th>30</th>\n",
              "      <td>29</td>\n",
              "      <td>1.762791</td>\n",
              "      <td>1.532710</td>\n",
              "    </tr>\n",
              "    <tr>\n",
              "      <th>31</th>\n",
              "      <td>30</td>\n",
              "      <td>0.246000</td>\n",
              "      <td>0.339943</td>\n",
              "    </tr>\n",
              "    <tr>\n",
              "      <th>32</th>\n",
              "      <td>31</td>\n",
              "      <td>0.638000</td>\n",
              "      <td>0.786667</td>\n",
              "    </tr>\n",
              "    <tr>\n",
              "      <th>33</th>\n",
              "      <td>32</td>\n",
              "      <td>0.644000</td>\n",
              "      <td>0.986667</td>\n",
              "    </tr>\n",
              "    <tr>\n",
              "      <th>34</th>\n",
              "      <td>32</td>\n",
              "      <td>0.320000</td>\n",
              "      <td>0.410667</td>\n",
              "    </tr>\n",
              "    <tr>\n",
              "      <th>35</th>\n",
              "      <td>33</td>\n",
              "      <td>0.624000</td>\n",
              "      <td>0.830721</td>\n",
              "    </tr>\n",
              "    <tr>\n",
              "      <th>36</th>\n",
              "      <td>34</td>\n",
              "      <td>0.516269</td>\n",
              "      <td>0.628000</td>\n",
              "    </tr>\n",
              "    <tr>\n",
              "      <th>37</th>\n",
              "      <td>35</td>\n",
              "      <td>0.738000</td>\n",
              "      <td>0.604027</td>\n",
              "    </tr>\n",
              "    <tr>\n",
              "      <th>38</th>\n",
              "      <td>36</td>\n",
              "      <td>1.357143</td>\n",
              "      <td>0.958678</td>\n",
              "    </tr>\n",
              "    <tr>\n",
              "      <th>39</th>\n",
              "      <td>37</td>\n",
              "      <td>0.390000</td>\n",
              "      <td>0.552000</td>\n",
              "    </tr>\n",
              "    <tr>\n",
              "      <th>40</th>\n",
              "      <td>38</td>\n",
              "      <td>0.426702</td>\n",
              "      <td>0.908854</td>\n",
              "    </tr>\n",
              "    <tr>\n",
              "      <th>41</th>\n",
              "      <td>39</td>\n",
              "      <td>1.181333</td>\n",
              "      <td>0.436000</td>\n",
              "    </tr>\n",
              "    <tr>\n",
              "      <th>42</th>\n",
              "      <td>40</td>\n",
              "      <td>0.150000</td>\n",
              "      <td>0.315000</td>\n",
              "    </tr>\n",
              "    <tr>\n",
              "      <th>43</th>\n",
              "      <td>40</td>\n",
              "      <td>0.208000</td>\n",
              "      <td>0.208000</td>\n",
              "    </tr>\n",
              "    <tr>\n",
              "      <th>44</th>\n",
              "      <td>40</td>\n",
              "      <td>0.278000</td>\n",
              "      <td>0.297414</td>\n",
              "    </tr>\n",
              "    <tr>\n",
              "      <th>45</th>\n",
              "      <td>41</td>\n",
              "      <td>0.773684</td>\n",
              "      <td>1.363636</td>\n",
              "    </tr>\n",
              "    <tr>\n",
              "      <th>46</th>\n",
              "      <td>42</td>\n",
              "      <td>1.645485</td>\n",
              "      <td>1.250602</td>\n",
              "    </tr>\n",
              "    <tr>\n",
              "      <th>47</th>\n",
              "      <td>43</td>\n",
              "      <td>0.546547</td>\n",
              "      <td>0.514000</td>\n",
              "    </tr>\n",
              "    <tr>\n",
              "      <th>48</th>\n",
              "      <td>44</td>\n",
              "      <td>0.920000</td>\n",
              "      <td>1.258929</td>\n",
              "    </tr>\n",
              "    <tr>\n",
              "      <th>49</th>\n",
              "      <td>45</td>\n",
              "      <td>0.673428</td>\n",
              "      <td>0.480000</td>\n",
              "    </tr>\n",
              "    <tr>\n",
              "      <th>50</th>\n",
              "      <td>46</td>\n",
              "      <td>0.333333</td>\n",
              "      <td>0.322000</td>\n",
              "    </tr>\n",
              "    <tr>\n",
              "      <th>51</th>\n",
              "      <td>47</td>\n",
              "      <td>0.465625</td>\n",
              "      <td>0.529894</td>\n",
              "    </tr>\n",
              "    <tr>\n",
              "      <th>52</th>\n",
              "      <td>48</td>\n",
              "      <td>0.337500</td>\n",
              "      <td>0.656250</td>\n",
              "    </tr>\n",
              "    <tr>\n",
              "      <th>53</th>\n",
              "      <td>49</td>\n",
              "      <td>0.360000</td>\n",
              "      <td>0.765766</td>\n",
              "    </tr>\n",
              "    <tr>\n",
              "      <th>54</th>\n",
              "      <td>50</td>\n",
              "      <td>0.591880</td>\n",
              "      <td>1.043605</td>\n",
              "    </tr>\n",
              "  </tbody>\n",
              "</table>\n",
              "</div>"
            ],
            "text/plain": [
              "    image_id   bbwidth  bbheight\n",
              "0          0  0.660000  0.888000\n",
              "1          1  0.336000  0.438438\n",
              "2          2  0.546000  0.888889\n",
              "3          3  0.434000  0.621333\n",
              "4          4  0.882000  0.701333\n",
              "5          5  0.937656  0.920110\n",
              "6          6  0.653846  0.900000\n",
              "7          7  0.292000  0.370667\n",
              "8          7  0.483333  0.817664\n",
              "9          8  1.093525  1.270073\n",
              "10         9  0.520000  0.768546\n",
              "11        10  0.346000  0.418667\n",
              "12        11  0.239394  0.569721\n",
              "13        12  0.470000  0.446000\n",
              "14        13  0.308000  0.298333\n",
              "15        14  1.286957  1.644444\n",
              "16        15  0.755556  1.223443\n",
              "17        16  0.410667  0.348000\n",
              "18        17  0.508000  0.992000\n",
              "19        18  0.616000  0.538667\n",
              "20        19  0.706000  0.938667\n",
              "21        20  0.854000  0.602000\n",
              "22        21  0.499165  1.018692\n",
              "23        22  0.932000  1.132132\n",
              "24        23  1.255556  1.096667\n",
              "25        24  0.573333  0.562000\n",
              "26        25  0.742000  1.288000\n",
              "27        26  0.918000  0.989333\n",
              "28        27  0.456000  0.834337\n",
              "29        28  0.685000  0.504178\n",
              "30        29  1.762791  1.532710\n",
              "31        30  0.246000  0.339943\n",
              "32        31  0.638000  0.786667\n",
              "33        32  0.644000  0.986667\n",
              "34        32  0.320000  0.410667\n",
              "35        33  0.624000  0.830721\n",
              "36        34  0.516269  0.628000\n",
              "37        35  0.738000  0.604027\n",
              "38        36  1.357143  0.958678\n",
              "39        37  0.390000  0.552000\n",
              "40        38  0.426702  0.908854\n",
              "41        39  1.181333  0.436000\n",
              "42        40  0.150000  0.315000\n",
              "43        40  0.208000  0.208000\n",
              "44        40  0.278000  0.297414\n",
              "45        41  0.773684  1.363636\n",
              "46        42  1.645485  1.250602\n",
              "47        43  0.546547  0.514000\n",
              "48        44  0.920000  1.258929\n",
              "49        45  0.673428  0.480000\n",
              "50        46  0.333333  0.322000\n",
              "51        47  0.465625  0.529894\n",
              "52        48  0.337500  0.656250\n",
              "53        49  0.360000  0.765766\n",
              "54        50  0.591880  1.043605"
            ]
          },
          "metadata": {
            "tags": []
          },
          "execution_count": 11
        }
      ]
    },
    {
      "cell_type": "markdown",
      "metadata": {
        "id": "wWGuCljQv8V6",
        "colab_type": "text"
      },
      "source": [
        "# Plotting the Image Values with Bounding Box Height and Width\n",
        "\n",
        "---\n",
        "\n"
      ]
    },
    {
      "cell_type": "code",
      "metadata": {
        "id": "CtQtjdSKZMzf",
        "colab_type": "code",
        "colab": {
          "base_uri": "https://localhost:8080/",
          "height": 282
        },
        "outputId": "45fb4413-f1ee-4e5a-e10b-f6cc98c43425"
      },
      "source": [
        "import matplotlib.pyplot as plt\n",
        "plt.plot(image_info_final['bbwidth'],image_info_final['bbheight'],'.')"
      ],
      "execution_count": 12,
      "outputs": [
        {
          "output_type": "execute_result",
          "data": {
            "text/plain": [
              "[<matplotlib.lines.Line2D at 0x7fb198e257b8>]"
            ]
          },
          "metadata": {
            "tags": []
          },
          "execution_count": 12
        },
        {
          "output_type": "display_data",
          "data": {
            "image/png": "[encoded data removed]",
            "text/plain": [
              "<Figure size 432x288 with 1 Axes>"
            ]
          },
          "metadata": {
            "tags": [],
            "needs_background": "light"
          }
        }
      ]
    },
    {
      "cell_type": "code",
      "metadata": {
        "id": "NYezvQEoZRP8",
        "colab_type": "code",
        "colab": {
          "base_uri": "https://localhost:8080/",
          "height": 281
        },
        "outputId": "33117bc0-87a0-4886-a563-a1bd41cd8086"
      },
      "source": [
        "plt.plot() \n",
        "plt.xlim([0, 2]) \n",
        "plt.ylim([0, 2]) \n",
        "plt.title('Dataset') \n",
        "plt.scatter(image_info_final['bbwidth'], image_info_final['bbheight']) \n",
        "plt.show()"
      ],
      "execution_count": 13,
      "outputs": [
        {
          "output_type": "display_data",
          "data": {
            "image/png": "[encoded data removed]",
            "text/plain": [
              "<Figure size 432x288 with 1 Axes>"
            ]
          },
          "metadata": {
            "tags": [],
            "needs_background": "light"
          }
        }
      ]
    },
    {
      "cell_type": "code",
      "metadata": {
        "id": "l-gcA2bZfyXd",
        "colab_type": "code",
        "colab": {}
      },
      "source": [
        "X=image_info_final[['bbwidth','bbheight']].to_numpy()"
      ],
      "execution_count": 0,
      "outputs": []
    },
    {
      "cell_type": "markdown",
      "metadata": {
        "id": "06nDIN68rZ6h",
        "colab_type": "text"
      },
      "source": [
        "# ***Intersection over Union***"
      ]
    },
    {
      "cell_type": "code",
      "metadata": {
        "id": "Nd6wp19edwmN",
        "colab_type": "code",
        "colab": {}
      },
      "source": [
        "import numpy as np\n",
        "\n",
        "# given centroids find the maximum IOU of a bbox\n",
        "def iou(box, centroids):\n",
        "    x = np.minimum(np.exp(centroids[:, 0]), np.exp(box[0]))\n",
        "    y = np.minimum(np.exp(centroids[:, 1]), np.exp(box[1]))\n",
        "\n",
        "    intersection = x * y\n",
        "    box_area = np.exp(box[0]) * np.exp(box[1])\n",
        "    centroid_area = np.exp(centroids[:, 0]) * np.exp(centroids[:, 1])\n",
        "\n",
        "    iou_ = intersection / (box_area + centroid_area - intersection)\n",
        "    #return iou_\n",
        "    return (np.max(iou_), np.argmax(iou_))"
      ],
      "execution_count": 0,
      "outputs": []
    },
    {
      "cell_type": "markdown",
      "metadata": {
        "id": "9u7pryq9reTh",
        "colab_type": "text"
      },
      "source": [
        "# ***Elbow Method***"
      ]
    },
    {
      "cell_type": "code",
      "metadata": {
        "id": "IcrihhmHZVX0",
        "colab_type": "code",
        "colab": {}
      },
      "source": [
        "distortions = [] \n",
        "inertias = [] \n",
        "mapping1 = {} \n",
        "mapping2 = {} \n",
        "centroids = {}\n",
        "memberships = {}\n",
        "miou = []\n",
        "K = range(1,21) \n",
        "  \n",
        "for k in K: \n",
        "    #Building and fitting the model \n",
        "    kmeanModel = KMeans(n_clusters=k).fit(X) \n",
        "    kmeanModel.fit(X)     \n",
        "      \n",
        "    distortions.append(sum(np.min(cdist(X, kmeanModel.cluster_centers_, \n",
        "                      'euclidean'),axis=1)) / X.shape[0]) \n",
        "    inertias.append(kmeanModel.inertia_) \n",
        "  \n",
        "    mapping1[k] = sum(np.min(cdist(X, kmeanModel.cluster_centers_, \n",
        "                 'euclidean'),axis=1)) / X.shape[0] \n",
        "    mapping2[k] = kmeanModel.inertia_\n",
        "    centroids[k] = kmeanModel.cluster_centers_\n",
        "    maxiou = np.array([iou(b, centroids[k])  for b in X])\n",
        "    memberships[k] = maxiou[:, 1].astype(np.uint8)\n",
        "    # find mean of maximum IOU between bounding boxes and individual anchors\n",
        "    miou.append(np.mean(maxiou[:, 0]))"
      ],
      "execution_count": 0,
      "outputs": []
    },
    {
      "cell_type": "markdown",
      "metadata": {
        "id": "CEZVTfynrjDk",
        "colab_type": "text"
      },
      "source": [
        "# ***Elbow Method using Distortion***"
      ]
    },
    {
      "cell_type": "code",
      "metadata": {
        "id": "_GxrBt9AZXkE",
        "colab_type": "code",
        "colab": {
          "base_uri": "https://localhost:8080/",
          "height": 294
        },
        "outputId": "3474bb50-e923-453d-ac0c-61e8f50e773c"
      },
      "source": [
        "plt.plot(K, distortions, 'bx-') \n",
        "plt.xlabel('Values of K') \n",
        "plt.ylabel('Distortion') \n",
        "plt.title('The Elbow Method using Distortion') \n",
        "plt.show()"
      ],
      "execution_count": 17,
      "outputs": [
        {
          "output_type": "display_data",
          "data": {
            "image/png": "[encoded data removed]",
            "text/plain": [
              "<Figure size 432x288 with 1 Axes>"
            ]
          },
          "metadata": {
            "tags": [],
            "needs_background": "light"
          }
        }
      ]
    },
    {
      "cell_type": "markdown",
      "metadata": {
        "id": "C5xb06vBr9wv",
        "colab_type": "text"
      },
      "source": [
        "# ***Elbow Method using Inertia***"
      ]
    },
    {
      "cell_type": "code",
      "metadata": {
        "id": "sJEe8OI7ZZ2E",
        "colab_type": "code",
        "colab": {
          "base_uri": "https://localhost:8080/",
          "height": 294
        },
        "outputId": "7539384c-f7e2-4509-85e8-1fa8e68a906d"
      },
      "source": [
        "plt.plot(K, inertias, 'bx-') \n",
        "plt.xlabel('Values of K') \n",
        "plt.ylabel('Inertia') \n",
        "plt.title('The Elbow Method using Inertia') \n",
        "plt.show()"
      ],
      "execution_count": 18,
      "outputs": [
        {
          "output_type": "display_data",
          "data": {
            "image/png": "[encoded data removed]",
            "text/plain": [
              "<Figure size 432x288 with 1 Axes>"
            ]
          },
          "metadata": {
            "tags": [],
            "needs_background": "light"
          }
        }
      ]
    },
    {
      "cell_type": "markdown",
      "metadata": {
        "id": "Im5OUm4QscoI",
        "colab_type": "text"
      },
      "source": [
        "# ***Elbow Method to Determine Optimal K (No. of Clusters)***"
      ]
    },
    {
      "cell_type": "code",
      "metadata": {
        "id": "jowngj2QsL1S",
        "colab_type": "code",
        "colab": {
          "base_uri": "https://localhost:8080/",
          "height": 294
        },
        "outputId": "fbdb68ce-51fb-4db5-9dc9-c07d670e857c"
      },
      "source": [
        "distortions = []\n",
        "K = range(1,10)\n",
        "for k in K:\n",
        "    kmeanModel = KMeans(n_clusters=k).fit(image_info_final)\n",
        "    kmeanModel.fit(image_info_final)\n",
        "    distortions.append(sum(np.min(cdist(image_info_final, kmeanModel.cluster_centers_, 'euclidean'), axis=1)) /image_info_final.shape[0])\n",
        "\n",
        "# Plot the elbow\n",
        "plt.plot(K, distortions, '.-')\n",
        "plt.xlabel('k')\n",
        "plt.ylabel('Distortion')\n",
        "plt.title('The Elbow Method showing the optimal k')\n",
        "plt.show()"
      ],
      "execution_count": 19,
      "outputs": [
        {
          "output_type": "display_data",
          "data": {
            "image/png": "[encoded data removed]",
            "text/plain": [
              "<Figure size 432x288 with 1 Axes>"
            ]
          },
          "metadata": {
            "tags": [],
            "needs_background": "light"
          }
        }
      ]
    },
    {
      "cell_type": "code",
      "metadata": {
        "id": "lo24028hZm7R",
        "colab_type": "code",
        "colab": {
          "base_uri": "https://localhost:8080/",
          "height": 72
        },
        "outputId": "9c23d92c-034b-47aa-de65-8f9f6c689a2a"
      },
      "source": [
        "import seaborn as sns\n",
        "def plotclusters(k):\n",
        "  #ax = image_info_final.plot.scatter('log_width', 'log_height', c=f'cluster{k}', colormap='viridis')\n",
        "  ax = sns.scatterplot('bbwidth', 'bbheight', data=image_info_final, hue=memberships[k], style = memberships[k], palette=\"Set2\")\n",
        "  ax.scatter(centroids[k][:,0], centroids[k][:,1], marker='*', c='black')\n",
        "  plt.show()"
      ],
      "execution_count": 20,
      "outputs": [
        {
          "output_type": "stream",
          "text": [
            "/usr/local/lib/python3.6/dist-packages/statsmodels/tools/_testing.py:19: FutureWarning: pandas.util.testing is deprecated. Use the functions in the public API at pandas.testing instead.\n",
            "  import pandas.util.testing as tm\n"
          ],
          "name": "stderr"
        }
      ]
    },
    {
      "cell_type": "markdown",
      "metadata": {
        "id": "PsgZEBQ5s-tn",
        "colab_type": "text"
      },
      "source": [
        "# ***Plotting Clusters for K = 3,4,5,6***"
      ]
    },
    {
      "cell_type": "code",
      "metadata": {
        "id": "18bsRoiCZq7E",
        "colab_type": "code",
        "colab": {
          "base_uri": "https://localhost:8080/",
          "height": 1000
        },
        "outputId": "041454a7-0a03-465f-e21c-580760fbe578"
      },
      "source": [
        "for k in [3, 4, 5, 6]:\n",
        "  plotclusters(k)"
      ],
      "execution_count": 21,
      "outputs": [
        {
          "output_type": "display_data",
          "data": {
            "image/png": "[encoded data removed]",
            "text/plain": [
              "<Figure size 432x288 with 1 Axes>"
            ]
          },
          "metadata": {
            "tags": [],
            "needs_background": "light"
          }
        },
        {
          "output_type": "display_data",
          "data": {
            "image/png": "[encoded data removed]",
            "text/plain": [
              "<Figure size 432x288 with 1 Axes>"
            ]
          },
          "metadata": {
            "tags": [],
            "needs_background": "light"
          }
        },
        {
          "output_type": "display_data",
          "data": {
            "image/png": "[encoded data removed]",
            "text/plain": [
              "<Figure size 432x288 with 1 Axes>"
            ]
          },
          "metadata": {
            "tags": [],
            "needs_background": "light"
          }
        },
        {
          "output_type": "display_data",
          "data": {
            "image/png": "[encoded data removed]",
            "text/plain": [
              "<Figure size 432x288 with 1 Axes>"
            ]
          },
          "metadata": {
            "tags": [],
            "needs_background": "light"
          }
        }
      ]
    },
    {
      "cell_type": "code",
      "metadata": {
        "id": "tUnW434vZtnU",
        "colab_type": "code",
        "colab": {
          "base_uri": "https://localhost:8080/",
          "height": 354
        },
        "outputId": "61dcde17-0f63-4d99-d502-ea484f4e9254"
      },
      "source": [
        "!pip install pyclustering"
      ],
      "execution_count": 22,
      "outputs": [
        {
          "output_type": "stream",
          "text": [
            "Collecting pyclustering\n",
            "\u001b[?25l  Downloading https://files.pythonhosted.org/packages/af/0f/6ef1ce5607076132b7ca2727ace4a2b61d81aee7d132aef466cc0c68f548/pyclustering-0.9.3.1.tar.gz (2.6MB)\n",
            "\r\u001b[K     |▏                               | 10kB 17.4MB/s eta 0:00:01\r\u001b[K     |▎                               | 20kB 1.8MB/s eta 0:00:02\r\u001b[K     |▍                               | 30kB 2.6MB/s eta 0:00:01\r\u001b[K     |▌                               | 40kB 1.7MB/s eta 0:00:02\r\u001b[K     |▋                               | 51kB 2.2MB/s eta 0:00:02\r\u001b[K     |▊                               | 61kB 2.6MB/s eta 0:00:01\r\u001b[K     |▉                               | 71kB 3.0MB/s eta 0:00:01\r\u001b[K     |█                               | 81kB 2.3MB/s eta 0:00:02\r\u001b[K     |█▏                              | 92kB 2.6MB/s eta 0:00:01\r\u001b[K     |█▎                              | 102kB 2.9MB/s eta 0:00:01\r\u001b[K     |█▍                              | 112kB 2.9MB/s eta 0:00:01\r\u001b[K     |█▌                              | 122kB 2.9MB/s eta 0:00:01\r\u001b[K     |█▋                              | 133kB 2.9MB/s eta 0:00:01\r\u001b[K     |█▊                              | 143kB 2.9MB/s eta 0:00:01\r\u001b[K     |█▉                              | 153kB 2.9MB/s eta 0:00:01\r\u001b[K     |██                              | 163kB 2.9MB/s eta 0:00:01\r\u001b[K     |██▏                             | 174kB 2.9MB/s eta 0:00:01\r\u001b[K     |██▎                             | 184kB 2.9MB/s eta 0:00:01\r\u001b[K     |██▍                             | 194kB 2.9MB/s eta 0:00:01\r\u001b[K     |██▌                             | 204kB 2.9MB/s eta 0:00:01\r\u001b[K     |██▋                             | 215kB 2.9MB/s eta 0:00:01\r\u001b[K     |██▊                             | 225kB 2.9MB/s eta 0:00:01\r\u001b[K     |██▉                             | 235kB 2.9MB/s eta 0:00:01\r\u001b[K     |███                             | 245kB 2.9MB/s eta 0:00:01\r\u001b[K     |███                             | 256kB 2.9MB/s eta 0:00:01\r\u001b[K     |███▎                            | 266kB 2.9MB/s eta 0:00:01\r\u001b[K     |███▍                            | 276kB 2.9MB/s eta 0:00:01\r\u001b[K     |███▌                            | 286kB 2.9MB/s eta 0:00:01\r\u001b[K     |███▋                            | 296kB 2.9MB/s eta 0:00:01\r\u001b[K     |███▊                            | 307kB 2.9MB/s eta 0:00:01\r\u001b[K     |███▉                            | 317kB 2.9MB/s eta 0:00:01\r\u001b[K     |████                            | 327kB 2.9MB/s eta 0:00:01\r\u001b[K     |████                            | 337kB 2.9MB/s eta 0:00:01\r\u001b[K     |████▎                           | 348kB 2.9MB/s eta 0:00:01\r\u001b[K     |████▍                           | 358kB 2.9MB/s eta 0:00:01\r\u001b[K     |████▌                           | 368kB 2.9MB/s eta 0:00:01\r\u001b[K     |████▋                           | 378kB 2.9MB/s eta 0:00:01\r\u001b[K     |████▊                           | 389kB 2.9MB/s eta 0:00:01\r\u001b[K     |████▉                           | 399kB 2.9MB/s eta 0:00:01\r\u001b[K     |█████                           | 409kB 2.9MB/s eta 0:00:01\r\u001b[K     |█████                           | 419kB 2.9MB/s eta 0:00:01\r\u001b[K     |█████▏                          | 430kB 2.9MB/s eta 0:00:01\r\u001b[K     |█████▍                          | 440kB 2.9MB/s eta 0:00:01\r\u001b[K     |█████▌                          | 450kB 2.9MB/s eta 0:00:01\r\u001b[K     |█████▋                          | 460kB 2.9MB/s eta 0:00:01\r\u001b[K     |█████▊                          | 471kB 2.9MB/s eta 0:00:01\r\u001b[K     |█████▉                          | 481kB 2.9MB/s eta 0:00:01\r\u001b[K     |██████                          | 491kB 2.9MB/s eta 0:00:01\r\u001b[K     |██████                          | 501kB 2.9MB/s eta 0:00:01\r\u001b[K     |██████▏                         | 512kB 2.9MB/s eta 0:00:01\r\u001b[K     |██████▍                         | 522kB 2.9MB/s eta 0:00:01\r\u001b[K     |██████▌                         | 532kB 2.9MB/s eta 0:00:01\r\u001b[K     |██████▋                         | 542kB 2.9MB/s eta 0:00:01\r\u001b[K     |██████▊                         | 552kB 2.9MB/s eta 0:00:01\r\u001b[K     |██████▉                         | 563kB 2.9MB/s eta 0:00:01\r\u001b[K     |███████                         | 573kB 2.9MB/s eta 0:00:01\r\u001b[K     |███████                         | 583kB 2.9MB/s eta 0:00:01\r\u001b[K     |███████▏                        | 593kB 2.9MB/s eta 0:00:01\r\u001b[K     |███████▎                        | 604kB 2.9MB/s eta 0:00:01\r\u001b[K     |███████▌                        | 614kB 2.9MB/s eta 0:00:01\r\u001b[K     |███████▋                        | 624kB 2.9MB/s eta 0:00:01\r\u001b[K     |███████▊                        | 634kB 2.9MB/s eta 0:00:01\r\u001b[K     |███████▉                        | 645kB 2.9MB/s eta 0:00:01\r\u001b[K     |████████                        | 655kB 2.9MB/s eta 0:00:01\r\u001b[K     |████████                        | 665kB 2.9MB/s eta 0:00:01\r\u001b[K     |████████▏                       | 675kB 2.9MB/s eta 0:00:01\r\u001b[K     |████████▎                       | 686kB 2.9MB/s eta 0:00:01\r\u001b[K     |████████▌                       | 696kB 2.9MB/s eta 0:00:01\r\u001b[K     |████████▋                       | 706kB 2.9MB/s eta 0:00:01\r\u001b[K     |████████▊                       | 716kB 2.9MB/s eta 0:00:01\r\u001b[K     |████████▉                       | 727kB 2.9MB/s eta 0:00:01\r\u001b[K     |█████████                       | 737kB 2.9MB/s eta 0:00:01\r\u001b[K     |█████████                       | 747kB 2.9MB/s eta 0:00:01\r\u001b[K     |█████████▏                      | 757kB 2.9MB/s eta 0:00:01\r\u001b[K     |█████████▎                      | 768kB 2.9MB/s eta 0:00:01\r\u001b[K     |█████████▍                      | 778kB 2.9MB/s eta 0:00:01\r\u001b[K     |█████████▋                      | 788kB 2.9MB/s eta 0:00:01\r\u001b[K     |█████████▊                      | 798kB 2.9MB/s eta 0:00:01\r\u001b[K     |█████████▉                      | 808kB 2.9MB/s eta 0:00:01\r\u001b[K     |██████████                      | 819kB 2.9MB/s eta 0:00:01\r\u001b[K     |██████████                      | 829kB 2.9MB/s eta 0:00:01\r\u001b[K     |██████████▏                     | 839kB 2.9MB/s eta 0:00:01\r\u001b[K     |██████████▎                     | 849kB 2.9MB/s eta 0:00:01\r\u001b[K     |██████████▍                     | 860kB 2.9MB/s eta 0:00:01\r\u001b[K     |██████████▋                     | 870kB 2.9MB/s eta 0:00:01\r\u001b[K     |██████████▊                     | 880kB 2.9MB/s eta 0:00:01\r\u001b[K     |██████████▉                     | 890kB 2.9MB/s eta 0:00:01\r\u001b[K     |███████████                     | 901kB 2.9MB/s eta 0:00:01\r\u001b[K     |███████████                     | 911kB 2.9MB/s eta 0:00:01\r\u001b[K     |███████████▏                    | 921kB 2.9MB/s eta 0:00:01\r\u001b[K     |███████████▎                    | 931kB 2.9MB/s eta 0:00:01\r\u001b[K     |███████████▍                    | 942kB 2.9MB/s eta 0:00:01\r\u001b[K     |███████████▌                    | 952kB 2.9MB/s eta 0:00:01\r\u001b[K     |███████████▊                    | 962kB 2.9MB/s eta 0:00:01\r\u001b[K     |███████████▉                    | 972kB 2.9MB/s eta 0:00:01\r\u001b[K     |████████████                    | 983kB 2.9MB/s eta 0:00:01\r\u001b[K     |████████████                    | 993kB 2.9MB/s eta 0:00:01\r\u001b[K     |████████████▏                   | 1.0MB 2.9MB/s eta 0:00:01\r\u001b[K     |████████████▎                   | 1.0MB 2.9MB/s eta 0:00:01\r\u001b[K     |████████████▍                   | 1.0MB 2.9MB/s eta 0:00:01\r\u001b[K     |████████████▌                   | 1.0MB 2.9MB/s eta 0:00:01\r\u001b[K     |████████████▊                   | 1.0MB 2.9MB/s eta 0:00:01\r\u001b[K     |████████████▉                   | 1.1MB 2.9MB/s eta 0:00:01\r\u001b[K     |█████████████                   | 1.1MB 2.9MB/s eta 0:00:01\r\u001b[K     |█████████████                   | 1.1MB 2.9MB/s eta 0:00:01\r\u001b[K     |█████████████▏                  | 1.1MB 2.9MB/s eta 0:00:01\r\u001b[K     |█████████████▎                  | 1.1MB 2.9MB/s eta 0:00:01\r\u001b[K     |█████████████▍                  | 1.1MB 2.9MB/s eta 0:00:01\r\u001b[K     |█████████████▌                  | 1.1MB 2.9MB/s eta 0:00:01\r\u001b[K     |█████████████▊                  | 1.1MB 2.9MB/s eta 0:00:01\r\u001b[K     |█████████████▉                  | 1.1MB 2.9MB/s eta 0:00:01\r\u001b[K     |██████████████                  | 1.1MB 2.9MB/s eta 0:00:01\r\u001b[K     |██████████████                  | 1.2MB 2.9MB/s eta 0:00:01\r\u001b[K     |██████████████▏                 | 1.2MB 2.9MB/s eta 0:00:01\r\u001b[K     |██████████████▎                 | 1.2MB 2.9MB/s eta 0:00:01\r\u001b[K     |██████████████▍                 | 1.2MB 2.9MB/s eta 0:00:01\r\u001b[K     |██████████████▌                 | 1.2MB 2.9MB/s eta 0:00:01\r\u001b[K     |██████████████▋                 | 1.2MB 2.9MB/s eta 0:00:01\r\u001b[K     |██████████████▉                 | 1.2MB 2.9MB/s eta 0:00:01\r\u001b[K     |███████████████                 | 1.2MB 2.9MB/s eta 0:00:01\r\u001b[K     |███████████████                 | 1.2MB 2.9MB/s eta 0:00:01\r\u001b[K     |███████████████▏                | 1.2MB 2.9MB/s eta 0:00:01\r\u001b[K     |███████████████▎                | 1.3MB 2.9MB/s eta 0:00:01\r\u001b[K     |███████████████▍                | 1.3MB 2.9MB/s eta 0:00:01\r\u001b[K     |███████████████▌                | 1.3MB 2.9MB/s eta 0:00:01\r\u001b[K     |███████████████▋                | 1.3MB 2.9MB/s eta 0:00:01\r\u001b[K     |███████████████▉                | 1.3MB 2.9MB/s eta 0:00:01\r\u001b[K     |████████████████                | 1.3MB 2.9MB/s eta 0:00:01\r\u001b[K     |████████████████                | 1.3MB 2.9MB/s eta 0:00:01\r\u001b[K     |████████████████▏               | 1.3MB 2.9MB/s eta 0:00:01\r\u001b[K     |████████████████▎               | 1.3MB 2.9MB/s eta 0:00:01\r\u001b[K     |████████████████▍               | 1.4MB 2.9MB/s eta 0:00:01\r\u001b[K     |████████████████▌               | 1.4MB 2.9MB/s eta 0:00:01\r\u001b[K     |████████████████▋               | 1.4MB 2.9MB/s eta 0:00:01\r\u001b[K     |████████████████▊               | 1.4MB 2.9MB/s eta 0:00:01\r\u001b[K     |█████████████████               | 1.4MB 2.9MB/s eta 0:00:01\r\u001b[K     |█████████████████               | 1.4MB 2.9MB/s eta 0:00:01\r\u001b[K     |█████████████████▏              | 1.4MB 2.9MB/s eta 0:00:01\r\u001b[K     |█████████████████▎              | 1.4MB 2.9MB/s eta 0:00:01\r\u001b[K     |█████████████████▍              | 1.4MB 2.9MB/s eta 0:00:01\r\u001b[K     |█████████████████▌              | 1.4MB 2.9MB/s eta 0:00:01\r\u001b[K     |█████████████████▋              | 1.5MB 2.9MB/s eta 0:00:01\r\u001b[K     |█████████████████▊              | 1.5MB 2.9MB/s eta 0:00:01\r\u001b[K     |██████████████████              | 1.5MB 2.9MB/s eta 0:00:01\r\u001b[K     |██████████████████              | 1.5MB 2.9MB/s eta 0:00:01\r\u001b[K     |██████████████████▏             | 1.5MB 2.9MB/s eta 0:00:01\r\u001b[K     |██████████████████▎             | 1.5MB 2.9MB/s eta 0:00:01\r\u001b[K     |██████████████████▍             | 1.5MB 2.9MB/s eta 0:00:01\r\u001b[K     |██████████████████▌             | 1.5MB 2.9MB/s eta 0:00:01\r\u001b[K     |██████████████████▋             | 1.5MB 2.9MB/s eta 0:00:01\r\u001b[K     |██████████████████▊             | 1.5MB 2.9MB/s eta 0:00:01\r\u001b[K     |██████████████████▉             | 1.6MB 2.9MB/s eta 0:00:01\r\u001b[K     |███████████████████             | 1.6MB 2.9MB/s eta 0:00:01\r\u001b[K     |███████████████████▏            | 1.6MB 2.9MB/s eta 0:00:01\r\u001b[K     |███████████████████▎            | 1.6MB 2.9MB/s eta 0:00:01\r\u001b[K     |███████████████████▍            | 1.6MB 2.9MB/s eta 0:00:01\r\u001b[K     |███████████████████▌            | 1.6MB 2.9MB/s eta 0:00:01\r\u001b[K     |███████████████████▋            | 1.6MB 2.9MB/s eta 0:00:01\r\u001b[K     |███████████████████▊            | 1.6MB 2.9MB/s eta 0:00:01\r\u001b[K     |███████████████████▉            | 1.6MB 2.9MB/s eta 0:00:01\r\u001b[K     |████████████████████            | 1.6MB 2.9MB/s eta 0:00:01\r\u001b[K     |████████████████████▏           | 1.7MB 2.9MB/s eta 0:00:01\r\u001b[K     |████████████████████▎           | 1.7MB 2.9MB/s eta 0:00:01\r\u001b[K     |████████████████████▍           | 1.7MB 2.9MB/s eta 0:00:01\r\u001b[K     |████████████████████▌           | 1.7MB 2.9MB/s eta 0:00:01\r\u001b[K     |████████████████████▋           | 1.7MB 2.9MB/s eta 0:00:01\r\u001b[K     |████████████████████▊           | 1.7MB 2.9MB/s eta 0:00:01\r\u001b[K     |████████████████████▉           | 1.7MB 2.9MB/s eta 0:00:01\r\u001b[K     |█████████████████████           | 1.7MB 2.9MB/s eta 0:00:01\r\u001b[K     |█████████████████████▏          | 1.7MB 2.9MB/s eta 0:00:01\r\u001b[K     |█████████████████████▎          | 1.8MB 2.9MB/s eta 0:00:01\r\u001b[K     |█████████████████████▍          | 1.8MB 2.9MB/s eta 0:00:01\r\u001b[K     |█████████████████████▌          | 1.8MB 2.9MB/s eta 0:00:01\r\u001b[K     |█████████████████████▋          | 1.8MB 2.9MB/s eta 0:00:01\r\u001b[K     |█████████████████████▊          | 1.8MB 2.9MB/s eta 0:00:01\r\u001b[K     |█████████████████████▉          | 1.8MB 2.9MB/s eta 0:00:01\r\u001b[K     |██████████████████████          | 1.8MB 2.9MB/s eta 0:00:01\r\u001b[K     |██████████████████████▏         | 1.8MB 2.9MB/s eta 0:00:01\r\u001b[K     |██████████████████████▎         | 1.8MB 2.9MB/s eta 0:00:01\r\u001b[K     |██████████████████████▍         | 1.8MB 2.9MB/s eta 0:00:01\r\u001b[K     |██████████████████████▌         | 1.9MB 2.9MB/s eta 0:00:01\r\u001b[K     |██████████████████████▋         | 1.9MB 2.9MB/s eta 0:00:01\r\u001b[K     |██████████████████████▊         | 1.9MB 2.9MB/s eta 0:00:01\r\u001b[K     |██████████████████████▉         | 1.9MB 2.9MB/s eta 0:00:01\r\u001b[K     |███████████████████████         | 1.9MB 2.9MB/s eta 0:00:01\r\u001b[K     |███████████████████████         | 1.9MB 2.9MB/s eta 0:00:01\r\u001b[K     |███████████████████████▎        | 1.9MB 2.9MB/s eta 0:00:01\r\u001b[K     |███████████████████████▍        | 1.9MB 2.9MB/s eta 0:00:01\r\u001b[K     |███████████████████████▌        | 1.9MB 2.9MB/s eta 0:00:01\r\u001b[K     |███████████████████████▋        | 1.9MB 2.9MB/s eta 0:00:01\r\u001b[K     |███████████████████████▊        | 2.0MB 2.9MB/s eta 0:00:01\r\u001b[K     |███████████████████████▉        | 2.0MB 2.9MB/s eta 0:00:01\r\u001b[K     |████████████████████████        | 2.0MB 2.9MB/s eta 0:00:01\r\u001b[K     |████████████████████████        | 2.0MB 2.9MB/s eta 0:00:01\r\u001b[K     |████████████████████████▎       | 2.0MB 56kB/s eta 0:00:12\r\u001b[K     |████████████████████████▍       | 2.0MB 56kB/s eta 0:00:12\r\u001b[K     |████████████████████████▌       | 2.0MB 56kB/s eta 0:00:11\r\u001b[K     |████████████████████████▋       | 2.0MB 56kB/s eta 0:00:11\r\u001b[K     |████████████████████████▊       | 2.0MB 56kB/s eta 0:00:11\r\u001b[K     |████████████████████████▉       | 2.0MB 56kB/s eta 0:00:11\r\u001b[K     |█████████████████████████       | 2.1MB 56kB/s eta 0:00:11\r\u001b[K     |█████████████████████████       | 2.1MB 56kB/s eta 0:00:11\r\u001b[K     |█████████████████████████▏      | 2.1MB 56kB/s eta 0:00:10\r\u001b[K     |█████████████████████████▍      | 2.1MB 56kB/s eta 0:00:10\r\u001b[K     |█████████████████████████▌      | 2.1MB 56kB/s eta 0:00:10\r\u001b[K     |█████████████████████████▋      | 2.1MB 56kB/s eta 0:00:10\r\u001b[K     |█████████████████████████▊      | 2.1MB 56kB/s eta 0:00:10\r\u001b[K     |█████████████████████████▉      | 2.1MB 56kB/s eta 0:00:09\r\u001b[K     |██████████████████████████      | 2.1MB 56kB/s eta 0:00:09\r\u001b[K     |██████████████████████████      | 2.2MB 56kB/s eta 0:00:09\r\u001b[K     |██████████████████████████▏     | 2.2MB 56kB/s eta 0:00:09\r\u001b[K     |██████████████████████████▍     | 2.2MB 56kB/s eta 0:00:09\r\u001b[K     |██████████████████████████▌     | 2.2MB 56kB/s eta 0:00:09\r\u001b[K     |██████████████████████████▋     | 2.2MB 56kB/s eta 0:00:08\r\u001b[K     |██████████████████████████▊     | 2.2MB 56kB/s eta 0:00:08\r\u001b[K     |██████████████████████████▉     | 2.2MB 56kB/s eta 0:00:08\r\u001b[K     |███████████████████████████     | 2.2MB 56kB/s eta 0:00:08\r\u001b[K     |███████████████████████████     | 2.2MB 56kB/s eta 0:00:08\r\u001b[K     |███████████████████████████▏    | 2.2MB 56kB/s eta 0:00:07\r\u001b[K     |███████████████████████████▍    | 2.3MB 56kB/s eta 0:00:07\r\u001b[K     |███████████████████████████▌    | 2.3MB 56kB/s eta 0:00:07\r\u001b[K     |███████████████████████████▋    | 2.3MB 56kB/s eta 0:00:07\r\u001b[K     |███████████████████████████▊    | 2.3MB 56kB/s eta 0:00:07\r\u001b[K     |███████████████████████████▉    | 2.3MB 56kB/s eta 0:00:07\r\u001b[K     |████████████████████████████    | 2.3MB 56kB/s eta 0:00:06\r\u001b[K     |████████████████████████████    | 2.3MB 56kB/s eta 0:00:06\r\u001b[K     |████████████████████████████▏   | 2.3MB 56kB/s eta 0:00:06\r\u001b[K     |████████████████████████████▎   | 2.3MB 56kB/s eta 0:00:06\r\u001b[K     |████████████████████████████▌   | 2.3MB 56kB/s eta 0:00:06\r\u001b[K     |████████████████████████████▋   | 2.4MB 56kB/s eta 0:00:05\r\u001b[K     |████████████████████████████▊   | 2.4MB 56kB/s eta 0:00:05\r\u001b[K     |████████████████████████████▉   | 2.4MB 56kB/s eta 0:00:05\r\u001b[K     |█████████████████████████████   | 2.4MB 56kB/s eta 0:00:05\r\u001b[K     |█████████████████████████████   | 2.4MB 56kB/s eta 0:00:05\r\u001b[K     |█████████████████████████████▏  | 2.4MB 56kB/s eta 0:00:05\r\u001b[K     |█████████████████████████████▎  | 2.4MB 56kB/s eta 0:00:04\r\u001b[K     |█████████████████████████████▌  | 2.4MB 56kB/s eta 0:00:04\r\u001b[K     |█████████████████████████████▋  | 2.4MB 56kB/s eta 0:00:04\r\u001b[K     |█████████████████████████████▊  | 2.4MB 56kB/s eta 0:00:04\r\u001b[K     |█████████████████████████████▉  | 2.5MB 56kB/s eta 0:00:04\r\u001b[K     |██████████████████████████████  | 2.5MB 56kB/s eta 0:00:03\r\u001b[K     |██████████████████████████████  | 2.5MB 56kB/s eta 0:00:03\r\u001b[K     |██████████████████████████████▏ | 2.5MB 56kB/s eta 0:00:03\r\u001b[K     |██████████████████████████████▎ | 2.5MB 56kB/s eta 0:00:03\r\u001b[K     |██████████████████████████████▍ | 2.5MB 56kB/s eta 0:00:03\r\u001b[K     |██████████████████████████████▋ | 2.5MB 56kB/s eta 0:00:03\r\u001b[K     |██████████████████████████████▊ | 2.5MB 56kB/s eta 0:00:02\r\u001b[K     |██████████████████████████████▉ | 2.5MB 56kB/s eta 0:00:02\r\u001b[K     |███████████████████████████████ | 2.5MB 56kB/s eta 0:00:02\r\u001b[K     |███████████████████████████████ | 2.6MB 56kB/s eta 0:00:02\r\u001b[K     |███████████████████████████████▏| 2.6MB 56kB/s eta 0:00:02\r\u001b[K     |███████████████████████████████▎| 2.6MB 56kB/s eta 0:00:02\r\u001b[K     |███████████████████████████████▍| 2.6MB 56kB/s eta 0:00:01\r\u001b[K     |███████████████████████████████▋| 2.6MB 56kB/s eta 0:00:01\r\u001b[K     |███████████████████████████████▊| 2.6MB 56kB/s eta 0:00:01\r\u001b[K     |███████████████████████████████▉| 2.6MB 56kB/s eta 0:00:01\r\u001b[K     |████████████████████████████████| 2.6MB 56kB/s eta 0:00:01\r\u001b[K     |████████████████████████████████| 2.6MB 56kB/s \n",
            "\u001b[?25hRequirement already satisfied: scipy in /usr/local/lib/python3.6/dist-packages (from pyclustering) (1.4.1)\n",
            "Requirement already satisfied: matplotlib in /usr/local/lib/python3.6/dist-packages (from pyclustering) (3.2.1)\n",
            "Requirement already satisfied: numpy in /usr/local/lib/python3.6/dist-packages (from pyclustering) (1.18.2)\n",
            "Requirement already satisfied: Pillow in /usr/local/lib/python3.6/dist-packages (from pyclustering) (7.0.0)\n",
            "Requirement already satisfied: cycler>=0.10 in /usr/local/lib/python3.6/dist-packages (from matplotlib->pyclustering) (0.10.0)\n",
            "Requirement already satisfied: python-dateutil>=2.1 in /usr/local/lib/python3.6/dist-packages (from matplotlib->pyclustering) (2.8.1)\n",
            "Requirement already satisfied: pyparsing!=2.0.4,!=2.1.2,!=2.1.6,>=2.0.1 in /usr/local/lib/python3.6/dist-packages (from matplotlib->pyclustering) (2.4.7)\n",
            "Requirement already satisfied: kiwisolver>=1.0.1 in /usr/local/lib/python3.6/dist-packages (from matplotlib->pyclustering) (1.2.0)\n",
            "Requirement already satisfied: six in /usr/local/lib/python3.6/dist-packages (from cycler>=0.10->matplotlib->pyclustering) (1.12.0)\n",
            "Building wheels for collected packages: pyclustering\n",
            "  Building wheel for pyclustering (setup.py) ... \u001b[?25l\u001b[?25hdone\n",
            "  Created wheel for pyclustering: filename=pyclustering-0.9.3.1-cp36-none-any.whl size=2599356 sha256=12ef3c62092d7622eec1349924ffc399f0d887941a7fbfe136c8f426479fe93d\n",
            "  Stored in directory: /root/.cache/pip/wheels/34/d6/ac/59746c226a35752edcd786d3ab96f9b547a2b70d0fbda92015\n",
            "Successfully built pyclustering\n",
            "Installing collected packages: pyclustering\n",
            "Successfully installed pyclustering-0.9.3.1\n"
          ],
          "name": "stdout"
        }
      ]
    },
    {
      "cell_type": "markdown",
      "metadata": {
        "id": "L93emt83v2kx",
        "colab_type": "text"
      },
      "source": [
        "# ***Using Distance Metric of IoU***"
      ]
    },
    {
      "cell_type": "code",
      "metadata": {
        "id": "vQ8_WiNYZyq0",
        "colab_type": "code",
        "colab": {}
      },
      "source": [
        "# given centroids find the maximum IOU of a bbox\n",
        "def ioudist(box, centroid):\n",
        "    #print(centroid)\n",
        "    x = np.minimum(np.exp(centroid[0]), np.exp(box[0]))\n",
        "    y = np.minimum(np.exp(centroid[1]), np.exp(box[1]))\n",
        "\n",
        "    intersection = x * y\n",
        "    box_area = np.exp(box[0]) * np.exp(box[1])\n",
        "    centroid_area = np.exp(centroid[0]) * np.exp(centroid[1])\n",
        "\n",
        "    iou_ = intersection / (box_area + centroid_area - intersection)\n",
        "    return 1 - iou_"
      ],
      "execution_count": 0,
      "outputs": []
    },
    {
      "cell_type": "code",
      "metadata": {
        "id": "H7CV78-QaUMs",
        "colab_type": "code",
        "colab": {}
      },
      "source": [
        "from pyclustering.cluster.kmeans import kmeans, kmeans_visualizer\n",
        "from pyclustering.cluster.center_initializer import kmeans_plusplus_initializer\n",
        "from pyclustering.utils.metric import type_metric, distance_metric\n",
        "\n",
        "metric = distance_metric(type_metric.USER_DEFINED, func=ioudist)\n",
        "clusters = []\n",
        "final_centers = []\n",
        "mean_iou = []\n",
        "for k in K:\n",
        "  # Prepare initial centers using K-Means++ method.\n",
        "  initial_centers = kmeans_plusplus_initializer(X, k).initialize()\n",
        "\n",
        "  if k==1:\n",
        "    kmeans_instance = kmeans(X, initial_centers)  \n",
        "  else:\n",
        "    kmeans_instance = kmeans(X, initial_centers, metric=metric)\n",
        "\n",
        "  kmeans_instance.process()\n",
        "  clusters.append(kmeans_instance.get_clusters())\n",
        "  c = np.array(kmeans_instance.get_centers())\n",
        "  final_centers.append(c)\n",
        "  maxiou = np.array([iou(b, c)  for b in X])\n",
        "  mean_iou.append(np.mean(maxiou[:, 0]))"
      ],
      "execution_count": 0,
      "outputs": []
    },
    {
      "cell_type": "markdown",
      "metadata": {
        "id": "cQ41ueevv9Mo",
        "colab_type": "text"
      },
      "source": [
        "Visualising "
      ]
    },
    {
      "cell_type": "code",
      "metadata": {
        "id": "lUFK50PPhYF3",
        "colab_type": "code",
        "colab": {
          "base_uri": "https://localhost:8080/",
          "height": 956
        },
        "outputId": "f0c62c22-3d26-4516-ad24-b8458fcfb1e9"
      },
      "source": [
        "for k in range(2, 6):\n",
        "  kmeans_visualizer.show_clusters(X, clusters[k], final_centers[k])"
      ],
      "execution_count": 25,
      "outputs": [
        {
          "output_type": "display_data",
          "data": {
            "image/png": "[encoded data removed]",
            "text/plain": [
              "<Figure size 432x288 with 1 Axes>"
            ]
          },
          "metadata": {
            "tags": [],
            "needs_background": "light"
          }
        },
        {
          "output_type": "display_data",
          "data": {
            "image/png": "[encoded data removed]",
            "text/plain": [
              "<Figure size 432x288 with 1 Axes>"
            ]
          },
          "metadata": {
            "tags": [],
            "needs_background": "light"
          }
        },
        {
          "output_type": "display_data",
          "data": {
            "image/png": "[encoded data removed]",
            "text/plain": [
              "<Figure size 432x288 with 1 Axes>"
            ]
          },
          "metadata": {
            "tags": [],
            "needs_background": "light"
          }
        },
        {
          "output_type": "display_data",
          "data": {
            "image/png": "[encoded data removed]",
            "text/plain": [
              "<Figure size 432x288 with 1 Axes>"
            ]
          },
          "metadata": {
            "tags": [],
            "needs_background": "light"
          }
        }
      ]
    },
    {
      "cell_type": "markdown",
      "metadata": {
        "id": "OHNDOwGMthBn",
        "colab_type": "text"
      },
      "source": [
        "# ***Plotting the Data Points of Images for K = 3 (using Elbow Method)***"
      ]
    },
    {
      "cell_type": "code",
      "metadata": {
        "id": "XRkJsT5im-Bq",
        "colab_type": "code",
        "colab": {
          "base_uri": "https://localhost:8080/",
          "height": 294
        },
        "outputId": "dfefe21f-d8ee-46e7-d76c-911491a38844"
      },
      "source": [
        "cl3 = KMeans(3)\n",
        "cl3.fit(X)\n",
        "\n",
        "plt.scatter(cl3.cluster_centers_[:,0] ,cl3.cluster_centers_[:,1], color='red',s = 100,marker = 'o', label='centroids')\n",
        "plt.scatter(list(image_info_final['bbwidth']), list(image_info_final['bbheight']), marker=\"v\",c=list(cl3.labels_.astype(float)), label = \"data\")\n",
        "plt.legend()\n",
        "plt.xlabel('bbwidth')\n",
        "plt.ylabel('bbheight')\n",
        "plt.title('K Means for k = 3')\n",
        "plt.legend()\n",
        "plt.show()"
      ],
      "execution_count": 26,
      "outputs": [
        {
          "output_type": "display_data",
          "data": {
            "image/png": "[encoded data removed]",
            "text/plain": [
              "<Figure size 432x288 with 1 Axes>"
            ]
          },
          "metadata": {
            "tags": [],
            "needs_background": "light"
          }
        }
      ]
    },
    {
      "cell_type": "markdown",
      "metadata": {
        "id": "YXBHo07vtxt_",
        "colab_type": "text"
      },
      "source": [
        "# ***Plotting the Data Points of Images for K = 4 (Mean IoU)***"
      ]
    },
    {
      "cell_type": "code",
      "metadata": {
        "id": "TTuvwiNVnWxp",
        "colab_type": "code",
        "colab": {
          "base_uri": "https://localhost:8080/",
          "height": 294
        },
        "outputId": "a08c04bd-3962-4800-ef79-8fdbd6635aec"
      },
      "source": [
        "cl3 = KMeans(4)\n",
        "cl3.fit(X)\n",
        "\n",
        "plt.scatter(cl3.cluster_centers_[:,0] ,cl3.cluster_centers_[:,1], color='red',s = 100,marker = 'o', label='centroids')\n",
        "plt.scatter(list(image_info_final['bbwidth']), list(image_info_final['bbheight']), marker=\"v\",c=list(cl3.labels_.astype(float)), label = \"data\")\n",
        "plt.legend()\n",
        "plt.xlabel('bbwidth')\n",
        "plt.ylabel('bbheight')\n",
        "plt.title('K Means for k = 3')\n",
        "plt.legend()\n",
        "plt.show()"
      ],
      "execution_count": 27,
      "outputs": [
        {
          "output_type": "display_data",
          "data": {
            "image/png": "[encoded data removed]",
            "text/plain": [
              "<Figure size 432x288 with 1 Axes>"
            ]
          },
          "metadata": {
            "tags": [],
            "needs_background": "light"
          }
        }
      ]
    },
    {
      "cell_type": "markdown",
      "metadata": {
        "id": "7EusV8joy015",
        "colab_type": "text"
      },
      "source": [
        "Top 3 & Top5 Anchor boxes plot\n",
        "\n",
        "---\n",
        "\n"
      ]
    },
    {
      "cell_type": "code",
      "metadata": {
        "id": "0y5pPS0oyzlo",
        "colab_type": "code",
        "colab": {}
      },
      "source": [
        "from matplotlib.collections import PatchCollection\n",
        "from matplotlib.patches import Rectangle\n",
        "\n",
        "def make_anchor_boxes(ax, clusters, facecolor='None', edgecolor='b', alpha=1):\n",
        "\n",
        "    xdata = np.array([0.5]*len(clusters))\n",
        "    ydata = np.array([0.5]*len(clusters))\n",
        "\n",
        "    xerror = np.array([list(np.exp(clusters[:, 0])/2)]*2)\n",
        "    yerror = np.array([list(np.exp(clusters[:, 1])/2)]*2)\n",
        "    # Create list for all the error patches\n",
        "    errorboxes = []\n",
        "\n",
        "    # Loop over data points; create box from errors at each point\n",
        "    for x, y, xe, ye in zip(xdata, ydata, xerror.T, yerror.T):\n",
        "        rect = Rectangle((x - xe[0], y - ye[0]), xe.sum(), ye.sum())\n",
        "        errorboxes.append(rect)\n",
        "\n",
        "    # Create patch collection with specified colour/alpha\n",
        "    pc = PatchCollection(errorboxes, facecolor=facecolor, alpha=alpha,\n",
        "                         edgecolor=edgecolor)\n",
        "\n",
        "    # Add collection to axes\n",
        "    ax.add_collection(pc)\n",
        "\n",
        "    # Plot errorbars\n",
        "    artists = ax.errorbar(xdata, ydata, xerr=xerror, yerr=yerror,\n",
        "                          fmt='None', ecolor='None')\n",
        "\n",
        "    return artists"
      ],
      "execution_count": 0,
      "outputs": []
    },
    {
      "cell_type": "code",
      "metadata": {
        "id": "G9TMIn-5zVwz",
        "colab_type": "code",
        "colab": {
          "base_uri": "https://localhost:8080/",
          "height": 264
        },
        "outputId": "aad334ae-c940-49cb-83c4-00a7386f6f59"
      },
      "source": [
        "# Create figure and axes\n",
        "fig, ax = plt.subplots(1)\n",
        "\n",
        "# Call function to create error boxes\n",
        "_ = make_anchor_boxes(ax, final_centers[2])\n",
        "\n",
        "plt.show()"
      ],
      "execution_count": 30,
      "outputs": [
        {
          "output_type": "display_data",
          "data": {
            "image/png": "[encoded data removed]",
            "text/plain": [
              "<Figure size 432x288 with 1 Axes>"
            ]
          },
          "metadata": {
            "tags": [],
            "needs_background": "light"
          }
        }
      ]
    },
    {
      "cell_type": "code",
      "metadata": {
        "id": "AIOBvtWBzXrq",
        "colab_type": "code",
        "colab": {
          "base_uri": "https://localhost:8080/",
          "height": 264
        },
        "outputId": "0a442df3-fccf-4a65-bea5-84166b104eca"
      },
      "source": [
        "# Create figure and axes\n",
        "fig, ax = plt.subplots(1)\n",
        "\n",
        "# Call function to create error boxes\n",
        "_ = make_anchor_boxes(ax, final_centers[4])\n",
        "\n",
        "plt.show()"
      ],
      "execution_count": 31,
      "outputs": [
        {
          "output_type": "display_data",
          "data": {
            "image/png": "[encoded data removed]",
            "text/plain": [
              "<Figure size 432x288 with 1 Axes>"
            ]
          },
          "metadata": {
            "tags": [],
            "needs_background": "light"
          }
        }
      ]
    }
  ]
}