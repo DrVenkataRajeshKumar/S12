{
  "nbformat": 4,
  "nbformat_minor": 0,
  "metadata": {
    "colab": {
      "name": "S12_Part_B",
      "provenance": [],
      "include_colab_link": true
    },
    "kernelspec": {
      "name": "python3",
      "display_name": "Python 3"
    }
  },
  "cells": [
    {
      "cell_type": "markdown",
      "metadata": {
        "id": "view-in-github",
        "colab_type": "text"
      },
      "source": [
        "<a href=\"https://colab.research.google.com/github/DrVenkataRajeshKumar/S12/blob/master/S12_Part_B.ipynb\" target=\"_parent\"><img src=\"https://colab.research.google.com/assets/colab-badge.svg\" alt=\"Open In Colab\"/></a>"
      ]
    },
    {
      "cell_type": "code",
      "metadata": {
        "id": "bt1iTj9BX1X3",
        "colab_type": "code",
        "colab": {}
      },
      "source": [
        "from sklearn.cluster import KMeans \n",
        "from sklearn import metrics \n",
        "from scipy.spatial.distance import cdist \n",
        "import numpy as np \n",
        "import matplotlib.pyplot as plt\n",
        "import pandas as pd"
      ],
      "execution_count": 0,
      "outputs": []
    },
    {
      "cell_type": "markdown",
      "metadata": {
        "id": "n-KRuDPCoI14",
        "colab_type": "text"
      },
      "source": [
        "# ***Mounting GDrive***"
      ]
    },
    {
      "cell_type": "code",
      "metadata": {
        "id": "OgxV4zGgX65X",
        "colab_type": "code",
        "outputId": "72036606-221e-4f2a-fff1-b4ac7fabbe5a",
        "colab": {
          "base_uri": "https://localhost:8080/",
          "height": 34
        }
      },
      "source": [
        "from google.colab import drive\n",
        "drive.mount('/gdrive')"
      ],
      "execution_count": 2,
      "outputs": [
        {
          "output_type": "stream",
          "text": [
            "Drive already mounted at /gdrive; to attempt to forcibly remount, call drive.mount(\"/gdrive\", force_remount=True).\n"
          ],
          "name": "stdout"
        }
      ]
    },
    {
      "cell_type": "code",
      "metadata": {
        "id": "dPhjnzvQYOy8",
        "colab_type": "code",
        "outputId": "c2b964b7-e562-4241-9367-13818d66c1c8",
        "colab": {
          "base_uri": "https://localhost:8080/",
          "height": 34
        }
      },
      "source": [
        "path = '/gdrive/My Drive/MyData/'\n",
        "!ls '/gdrive/My Drive/MyData/'"
      ],
      "execution_count": 3,
      "outputs": [
        {
          "output_type": "stream",
          "text": [
            "ls: cannot access '/gdrive/My Drive/MyData/': No such file or directory\n"
          ],
          "name": "stdout"
        }
      ]
    },
    {
      "cell_type": "markdown",
      "metadata": {
        "colab_type": "text",
        "id": "k1axN6AnXDPa"
      },
      "source": [
        "# ***Loading JSON File (COCO JSON File)***\n",
        "\n",
        "\n"
      ]
    },
    {
      "cell_type": "markdown",
      "metadata": {
        "id": "UJ1wsd9RZG11",
        "colab_type": "text"
      },
      "source": [
        ""
      ]
    },
    {
      "cell_type": "code",
      "metadata": {
        "id": "MJCnEfrzYOqw",
        "colab_type": "code",
        "colab": {
          "base_uri": "https://localhost:8080/",
          "height": 203
        },
        "outputId": "2de04dc5-8cbe-4137-c7a8-75b823d1c614"
      },
      "source": [
        "import json\n",
        "with open(path + \"Dogs_Json_Coco.json\") as f:\n",
        "  annotations_data = json.load(f)"
      ],
      "execution_count": 4,
      "outputs": [
        {
          "output_type": "error",
          "ename": "FileNotFoundError",
          "evalue": "ignored",
          "traceback": [
            "\u001b[0;31m---------------------------------------------------------------------------\u001b[0m",
            "\u001b[0;31mFileNotFoundError\u001b[0m                         Traceback (most recent call last)",
            "\u001b[0;32m<ipython-input-4-715afa155b70>\u001b[0m in \u001b[0;36m<module>\u001b[0;34m()\u001b[0m\n\u001b[1;32m      1\u001b[0m \u001b[0;32mimport\u001b[0m \u001b[0mjson\u001b[0m\u001b[0;34m\u001b[0m\u001b[0;34m\u001b[0m\u001b[0m\n\u001b[0;32m----> 2\u001b[0;31m \u001b[0;32mwith\u001b[0m \u001b[0mopen\u001b[0m\u001b[0;34m(\u001b[0m\u001b[0mpath\u001b[0m \u001b[0;34m+\u001b[0m \u001b[0;34m\"Dogs_Json_Coco.json\"\u001b[0m\u001b[0;34m)\u001b[0m \u001b[0;32mas\u001b[0m \u001b[0mf\u001b[0m\u001b[0;34m:\u001b[0m\u001b[0;34m\u001b[0m\u001b[0;34m\u001b[0m\u001b[0m\n\u001b[0m\u001b[1;32m      3\u001b[0m   \u001b[0mannotations_data\u001b[0m \u001b[0;34m=\u001b[0m \u001b[0mjson\u001b[0m\u001b[0;34m.\u001b[0m\u001b[0mload\u001b[0m\u001b[0;34m(\u001b[0m\u001b[0mf\u001b[0m\u001b[0;34m)\u001b[0m\u001b[0;34m\u001b[0m\u001b[0;34m\u001b[0m\u001b[0m\n",
            "\u001b[0;31mFileNotFoundError\u001b[0m: [Errno 2] No such file or directory: '/gdrive/My Drive/MyData/Dogs_Json_Coco.json'"
          ]
        }
      ]
    },
    {
      "cell_type": "markdown",
      "metadata": {
        "id": "U9EYE04rXPjq",
        "colab_type": "text"
      },
      "source": [
        "# ***Dogs JSON COCO File Description Sample***\n",
        "\n",
        "![alt text](https://drive.google.com/uc?id=1KmiWtoVD1vqyyZ-OvMkwGwp4f-z-KZj8)\n",
        "[Dogs JSON COCO File Description Sample](https://drive.google.com/open?id=1N10ImjUeOuHbSdhDWwvxeqilzGnitWpz)"
      ]
    },
    {
      "cell_type": "markdown",
      "metadata": {
        "id": "LHoqqDzUoc9A",
        "colab_type": "text"
      },
      "source": [
        "# ***Extracting Keys from JSON File***\n",
        "\n",
        "\n",
        "\n",
        "\n",
        "\n",
        "\n"
      ]
    },
    {
      "cell_type": "code",
      "metadata": {
        "id": "93SonxAEYZQV",
        "colab_type": "code",
        "colab": {}
      },
      "source": [
        "print(annotations_data.keys())"
      ],
      "execution_count": 0,
      "outputs": []
    },
    {
      "cell_type": "markdown",
      "metadata": {
        "id": "4x24rHEAo4Pp",
        "colab_type": "text"
      },
      "source": [
        "# Extracting Image Attributes from the JSON ***File***"
      ]
    },
    {
      "cell_type": "code",
      "metadata": {
        "id": "fVBeTFe2YarG",
        "colab_type": "code",
        "colab": {}
      },
      "source": [
        "images = pd.DataFrame(annotations_data['images'], columns = annotations_data['images'][0].keys())\n",
        "images.head()"
      ],
      "execution_count": 0,
      "outputs": []
    },
    {
      "cell_type": "markdown",
      "metadata": {
        "id": "p4Je-8ybpCQo",
        "colab_type": "text"
      },
      "source": [
        "# Removing Unnecessary Attributes from Image ***Attributes***"
      ]
    },
    {
      "cell_type": "code",
      "metadata": {
        "id": "dNDdQb3hYygN",
        "colab_type": "code",
        "colab": {}
      },
      "source": [
        "images = images.drop([\"id\", \"license\",\"date_captured\"],axis = 1)\n",
        "images.head()"
      ],
      "execution_count": 0,
      "outputs": []
    },
    {
      "cell_type": "markdown",
      "metadata": {
        "id": "EdYH5YJ6pRJZ",
        "colab_type": "text"
      },
      "source": [
        "# ***Extracting Annotated Image Attributes from the JSON File***"
      ]
    },
    {
      "cell_type": "code",
      "metadata": {
        "id": "W5nB-XexY5cV",
        "colab_type": "code",
        "colab": {}
      },
      "source": [
        "annotations = pd.DataFrame(annotations_data['annotations'], columns = annotations_data['annotations'][0].keys())\n",
        "annotations.head()"
      ],
      "execution_count": 0,
      "outputs": []
    },
    {
      "cell_type": "markdown",
      "metadata": {
        "id": "xVdV9nXupgIY",
        "colab_type": "text"
      },
      "source": [
        "# ***Removing Unnecessary Attributes from Annotated Image Attributes from the JSON File***"
      ]
    },
    {
      "cell_type": "code",
      "metadata": {
        "id": "2LvApwklY8fF",
        "colab_type": "code",
        "colab": {}
      },
      "source": [
        "bbwidth = []\n",
        "bbheight = []\n",
        "bbox = list(annotations['bbox'])\n",
        "for i in bbox:\n",
        "    bbwidth.append(i[2])\n",
        "    bbheight.append(i[3])\n",
        "annotations['bbwidth'] = bbwidth\n",
        "annotations['bbheight'] = bbheight\n",
        "annotations = annotations.drop([\"bbox\", \"id\",\"segmentation\",\"area\",\"iscrowd\"],axis =1)\n",
        "annotations.head()"
      ],
      "execution_count": 0,
      "outputs": []
    },
    {
      "cell_type": "markdown",
      "metadata": {
        "id": "bWtWZN8Gp7xJ",
        "colab_type": "text"
      },
      "source": [
        "# ***Combining the Image and Annotated Image Attributes***"
      ]
    },
    {
      "cell_type": "code",
      "metadata": {
        "id": "BOjbpzE7ZAol",
        "colab_type": "code",
        "colab": {}
      },
      "source": [
        "image_info = pd.concat([images,annotations],axis = 1)\n",
        "\n",
        "columnsTitles = ['image_id', 'file_name', 'bbwidth','bbheight','width','height']\n",
        "image_info = image_info.reindex(columns=columnsTitles)\n",
        "\n",
        "image_info.head()"
      ],
      "execution_count": 0,
      "outputs": []
    },
    {
      "cell_type": "markdown",
      "metadata": {
        "id": "CiFTIlKkqOP5",
        "colab_type": "text"
      },
      "source": [
        "# ***Normalising the Image (Height and Width to 1)***"
      ]
    },
    {
      "cell_type": "code",
      "metadata": {
        "id": "8RJaZ716ZGLs",
        "colab_type": "code",
        "colab": {}
      },
      "source": [
        "image_info['bbwidth'] = image_info['bbwidth'].div(image_info['width'])\n",
        "image_info['bbheight'] = image_info['bbheight'].div(image_info['height'])\n",
        "image_info['height'] = image_info['height'].div(image_info['height'])\n",
        "image_info['width'] = image_info['width'].div(image_info['width'])\n",
        "\n",
        "image_info.head()"
      ],
      "execution_count": 0,
      "outputs": []
    },
    {
      "cell_type": "markdown",
      "metadata": {
        "id": "GS50WQSGqZXC",
        "colab_type": "text"
      },
      "source": [
        "# ***Dropping Unnecessary Values(NAN) from the Normalised Image Values***"
      ]
    },
    {
      "cell_type": "code",
      "metadata": {
        "id": "FyhJlS3wZJak",
        "colab_type": "code",
        "colab": {}
      },
      "source": [
        "image_info_final = image_info.drop([\"width\",\"height\",\"file_name\"],axis = 1)\n",
        "image_info_final = image_info_final.apply (pd.to_numeric, errors='coerce')\n",
        "image_info_final = image_info_final.dropna()\n",
        "image_info_final"
      ],
      "execution_count": 0,
      "outputs": []
    },
    {
      "cell_type": "markdown",
      "metadata": {
        "id": "NK3OlMRtqnHz",
        "colab_type": "text"
      },
      "source": [
        "# ***Plotting the Image Values with Bounding Box Height and Width***"
      ]
    },
    {
      "cell_type": "code",
      "metadata": {
        "id": "CtQtjdSKZMzf",
        "colab_type": "code",
        "colab": {}
      },
      "source": [
        "import matplotlib.pyplot as plt\n",
        "plt.plot(image_info_final['bbwidth'],image_info_final['bbheight'],'.')"
      ],
      "execution_count": 0,
      "outputs": []
    },
    {
      "cell_type": "code",
      "metadata": {
        "id": "NYezvQEoZRP8",
        "colab_type": "code",
        "colab": {}
      },
      "source": [
        "plt.plot() \n",
        "plt.xlim([0, 2]) \n",
        "plt.ylim([0, 2]) \n",
        "plt.title('Dataset') \n",
        "plt.scatter(image_info_final['bbwidth'], image_info_final['bbheight']) \n",
        "plt.show()"
      ],
      "execution_count": 0,
      "outputs": []
    },
    {
      "cell_type": "code",
      "metadata": {
        "id": "l-gcA2bZfyXd",
        "colab_type": "code",
        "colab": {}
      },
      "source": [
        "X=image_info_final[['bbwidth','bbheight']].to_numpy()"
      ],
      "execution_count": 0,
      "outputs": []
    },
    {
      "cell_type": "markdown",
      "metadata": {
        "id": "06nDIN68rZ6h",
        "colab_type": "text"
      },
      "source": [
        "# ***Intersection over Union***"
      ]
    },
    {
      "cell_type": "code",
      "metadata": {
        "id": "Nd6wp19edwmN",
        "colab_type": "code",
        "colab": {}
      },
      "source": [
        "import numpy as np\n",
        "\n",
        "# given centroids find the maximum IOU of a bbox\n",
        "def iou(box, centroids):\n",
        "    x = np.minimum(np.exp(centroids[:, 0]), np.exp(box[0]))\n",
        "    y = np.minimum(np.exp(centroids[:, 1]), np.exp(box[1]))\n",
        "\n",
        "    intersection = x * y\n",
        "    box_area = np.exp(box[0]) * np.exp(box[1])\n",
        "    centroid_area = np.exp(centroids[:, 0]) * np.exp(centroids[:, 1])\n",
        "\n",
        "    iou_ = intersection / (box_area + centroid_area - intersection)\n",
        "    #return iou_\n",
        "    return (np.max(iou_), np.argmax(iou_))"
      ],
      "execution_count": 0,
      "outputs": []
    },
    {
      "cell_type": "markdown",
      "metadata": {
        "id": "9u7pryq9reTh",
        "colab_type": "text"
      },
      "source": [
        "# ***Elbow Method***"
      ]
    },
    {
      "cell_type": "code",
      "metadata": {
        "id": "IcrihhmHZVX0",
        "colab_type": "code",
        "colab": {}
      },
      "source": [
        "distortions = [] \n",
        "inertias = [] \n",
        "mapping1 = {} \n",
        "mapping2 = {} \n",
        "centroids = {}\n",
        "memberships = {}\n",
        "miou = []\n",
        "K = range(1,21) \n",
        "  \n",
        "for k in K: \n",
        "    #Building and fitting the model \n",
        "    kmeanModel = KMeans(n_clusters=k).fit(X) \n",
        "    kmeanModel.fit(X)     \n",
        "      \n",
        "    distortions.append(sum(np.min(cdist(X, kmeanModel.cluster_centers_, \n",
        "                      'euclidean'),axis=1)) / X.shape[0]) \n",
        "    inertias.append(kmeanModel.inertia_) \n",
        "  \n",
        "    mapping1[k] = sum(np.min(cdist(X, kmeanModel.cluster_centers_, \n",
        "                 'euclidean'),axis=1)) / X.shape[0] \n",
        "    mapping2[k] = kmeanModel.inertia_\n",
        "    centroids[k] = kmeanModel.cluster_centers_\n",
        "    maxiou = np.array([iou(b, centroids[k])  for b in X])\n",
        "    memberships[k] = maxiou[:, 1].astype(np.uint8)\n",
        "    # find mean of maximum IOU between bounding boxes and individual anchors\n",
        "    miou.append(np.mean(maxiou[:, 0]))"
      ],
      "execution_count": 0,
      "outputs": []
    },
    {
      "cell_type": "markdown",
      "metadata": {
        "id": "CEZVTfynrjDk",
        "colab_type": "text"
      },
      "source": [
        "# ***Elbow Method using Distortion***"
      ]
    },
    {
      "cell_type": "code",
      "metadata": {
        "id": "_GxrBt9AZXkE",
        "colab_type": "code",
        "colab": {}
      },
      "source": [
        "plt.plot(K, distortions, 'bx-') \n",
        "plt.xlabel('Values of K') \n",
        "plt.ylabel('Distortion') \n",
        "plt.title('The Elbow Method using Distortion') \n",
        "plt.show()"
      ],
      "execution_count": 0,
      "outputs": []
    },
    {
      "cell_type": "markdown",
      "metadata": {
        "id": "C5xb06vBr9wv",
        "colab_type": "text"
      },
      "source": [
        "# ***Elbow Method using Inertia***"
      ]
    },
    {
      "cell_type": "code",
      "metadata": {
        "id": "sJEe8OI7ZZ2E",
        "colab_type": "code",
        "colab": {}
      },
      "source": [
        "plt.plot(K, inertias, 'bx-') \n",
        "plt.xlabel('Values of K') \n",
        "plt.ylabel('Inertia') \n",
        "plt.title('The Elbow Method using Inertia') \n",
        "plt.show()"
      ],
      "execution_count": 0,
      "outputs": []
    },
    {
      "cell_type": "markdown",
      "metadata": {
        "id": "Im5OUm4QscoI",
        "colab_type": "text"
      },
      "source": [
        "# ***Elbow Method to Determine Optimal K (No. of Clusters)***"
      ]
    },
    {
      "cell_type": "code",
      "metadata": {
        "id": "jowngj2QsL1S",
        "colab_type": "code",
        "colab": {}
      },
      "source": [
        "distortions = []\n",
        "K = range(1,10)\n",
        "for k in K:\n",
        "    kmeanModel = KMeans(n_clusters=k).fit(image_info_final)\n",
        "    kmeanModel.fit(image_info_final)\n",
        "    distortions.append(sum(np.min(cdist(image_info_final, kmeanModel.cluster_centers_, 'euclidean'), axis=1)) /image_info_final.shape[0])\n",
        "\n",
        "# Plot the elbow\n",
        "plt.plot(K, distortions, '.-')\n",
        "plt.xlabel('k')\n",
        "plt.ylabel('Distortion')\n",
        "plt.title('The Elbow Method showing the optimal k')\n",
        "plt.show()"
      ],
      "execution_count": 0,
      "outputs": []
    },
    {
      "cell_type": "code",
      "metadata": {
        "id": "lo24028hZm7R",
        "colab_type": "code",
        "colab": {}
      },
      "source": [
        "import seaborn as sns\n",
        "def plotclusters(k):\n",
        "  #ax = image_info_final.plot.scatter('log_width', 'log_height', c=f'cluster{k}', colormap='viridis')\n",
        "  ax = sns.scatterplot('bbwidth', 'bbheight', data=image_info_final, hue=memberships[k], style = memberships[k], palette=\"Set2\")\n",
        "  ax.scatter(centroids[k][:,0], centroids[k][:,1], marker='*', c='black')\n",
        "  plt.show()"
      ],
      "execution_count": 0,
      "outputs": []
    },
    {
      "cell_type": "markdown",
      "metadata": {
        "id": "PsgZEBQ5s-tn",
        "colab_type": "text"
      },
      "source": [
        "# ***Plotting Clusters for K = 3,4,5,6,7,8***"
      ]
    },
    {
      "cell_type": "code",
      "metadata": {
        "id": "18bsRoiCZq7E",
        "colab_type": "code",
        "colab": {}
      },
      "source": [
        "for k in [3, 4, 5, 6,7,8]:\n",
        "  plotclusters(k)"
      ],
      "execution_count": 0,
      "outputs": []
    },
    {
      "cell_type": "code",
      "metadata": {
        "id": "tUnW434vZtnU",
        "colab_type": "code",
        "colab": {}
      },
      "source": [
        "!pip install pyclustering"
      ],
      "execution_count": 0,
      "outputs": []
    },
    {
      "cell_type": "markdown",
      "metadata": {
        "id": "L93emt83v2kx",
        "colab_type": "text"
      },
      "source": [
        "# ***Using Distance Metric of IoU***"
      ]
    },
    {
      "cell_type": "code",
      "metadata": {
        "id": "vQ8_WiNYZyq0",
        "colab_type": "code",
        "colab": {}
      },
      "source": [
        "# given centroids find the maximum IOU of a bbox\n",
        "def ioudist(box, centroid):\n",
        "    #print(centroid)\n",
        "    x = np.minimum(np.exp(centroid[0]), np.exp(box[0]))\n",
        "    y = np.minimum(np.exp(centroid[1]), np.exp(box[1]))\n",
        "\n",
        "    intersection = x * y\n",
        "    box_area = np.exp(box[0]) * np.exp(box[1])\n",
        "    centroid_area = np.exp(centroid[0]) * np.exp(centroid[1])\n",
        "\n",
        "    iou_ = intersection / (box_area + centroid_area - intersection)\n",
        "    return 1 - iou_"
      ],
      "execution_count": 0,
      "outputs": []
    },
    {
      "cell_type": "code",
      "metadata": {
        "id": "H7CV78-QaUMs",
        "colab_type": "code",
        "colab": {}
      },
      "source": [
        "from pyclustering.cluster.kmeans import kmeans, kmeans_visualizer\n",
        "from pyclustering.cluster.center_initializer import kmeans_plusplus_initializer\n",
        "from pyclustering.utils.metric import type_metric, distance_metric\n",
        "\n",
        "metric = distance_metric(type_metric.USER_DEFINED, func=ioudist)\n",
        "clusters = []\n",
        "final_centers = []\n",
        "mean_iou = []\n",
        "for k in K:\n",
        "  # Prepare initial centers using K-Means++ method.\n",
        "  initial_centers = kmeans_plusplus_initializer(X, k).initialize()\n",
        "\n",
        "  if k==1:\n",
        "    kmeans_instance = kmeans(X, initial_centers)  \n",
        "  else:\n",
        "    kmeans_instance = kmeans(X, initial_centers, metric=metric)\n",
        "\n",
        "  kmeans_instance.process()\n",
        "  clusters.append(kmeans_instance.get_clusters())\n",
        "  c = np.array(kmeans_instance.get_centers())\n",
        "  final_centers.append(c)\n",
        "  maxiou = np.array([iou(b, c)  for b in X])\n",
        "  mean_iou.append(np.mean(maxiou[:, 0]))"
      ],
      "execution_count": 0,
      "outputs": []
    },
    {
      "cell_type": "markdown",
      "metadata": {
        "id": "cQ41ueevv9Mo",
        "colab_type": "text"
      },
      "source": [
        "Visualising "
      ]
    },
    {
      "cell_type": "code",
      "metadata": {
        "id": "lUFK50PPhYF3",
        "colab_type": "code",
        "colab": {}
      },
      "source": [
        "for k in range(2, 8):\n",
        "  kmeans_visualizer.show_clusters(X, clusters[k], final_centers[k])"
      ],
      "execution_count": 0,
      "outputs": []
    },
    {
      "cell_type": "markdown",
      "metadata": {
        "id": "OHNDOwGMthBn",
        "colab_type": "text"
      },
      "source": [
        "# ***Plotting the Data Points of Images for K = 3 (using Elbow Method)***"
      ]
    },
    {
      "cell_type": "code",
      "metadata": {
        "id": "XRkJsT5im-Bq",
        "colab_type": "code",
        "colab": {}
      },
      "source": [
        "cl3 = KMeans(3)\n",
        "cl3.fit(X)\n",
        "\n",
        "plt.scatter(cl3.cluster_centers_[:,0] ,cl3.cluster_centers_[:,1], color='red',s = 100,marker = 'o', label='centroids')\n",
        "plt.scatter(list(image_info_final['bbwidth']), list(image_info_final['bbheight']), marker=\"v\",c=list(cl3.labels_.astype(float)), label = \"data\")\n",
        "plt.legend()\n",
        "plt.xlabel('bbwidth')\n",
        "plt.ylabel('bbheight')\n",
        "plt.title('K Means for k = 3')\n",
        "plt.legend()\n",
        "plt.show()"
      ],
      "execution_count": 0,
      "outputs": []
    },
    {
      "cell_type": "markdown",
      "metadata": {
        "id": "YXBHo07vtxt_",
        "colab_type": "text"
      },
      "source": [
        "# ***Plotting the Data Points of Images for K = 4 (Mean IoU)***"
      ]
    },
    {
      "cell_type": "code",
      "metadata": {
        "id": "TTuvwiNVnWxp",
        "colab_type": "code",
        "colab": {}
      },
      "source": [
        "cl3 = KMeans(4)\n",
        "cl3.fit(X)\n",
        "\n",
        "plt.scatter(cl3.cluster_centers_[:,0] ,cl3.cluster_centers_[:,1], color='red',s = 100,marker = 'o', label='centroids')\n",
        "plt.scatter(list(image_info_final['bbwidth']), list(image_info_final['bbheight']), marker=\"v\",c=list(cl3.labels_.astype(float)), label = \"data\")\n",
        "plt.legend()\n",
        "plt.xlabel('bbwidth')\n",
        "plt.ylabel('bbheight')\n",
        "plt.title('K Means for k = 3')\n",
        "plt.legend()\n",
        "plt.show()"
      ],
      "execution_count": 0,
      "outputs": []
    },
    {
      "cell_type": "markdown",
      "metadata": {
        "id": "YbOTI23ywUpe",
        "colab_type": "text"
      },
      "source": [
        "***Observations : It is observed the Optimal Number of Clusters would be either 3 or 4***"
      ]
    },
    {
      "cell_type": "markdown",
      "metadata": {
        "id": "sEfYRhK7uG_e",
        "colab_type": "text"
      },
      "source": [
        "***Submitted by G Uday Kiran, V Srilakshmi***"
      ]
    }
  ]
}